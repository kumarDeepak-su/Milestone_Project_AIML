{
 "cells": [
  {
   "cell_type": "code",
   "execution_count": 27,
   "id": "a434aff3-c6bf-45cb-a386-0af7f8000f4b",
   "metadata": {},
   "outputs": [],
   "source": [
    "import numpy as np\n",
    "import pandas as pd\n",
    "import scipy.stats as stats\n",
    "import matplotlib.pyplot as plt\n",
    "import seaborn as sns"
   ]
  },
  {
   "cell_type": "code",
   "execution_count": 28,
   "id": "6a447505-8051-4d32-8e16-32de171af812",
   "metadata": {},
   "outputs": [],
   "source": [
    "df1 = pd.read_csv('CompanyX_EU.csv')"
   ]
  },
  {
   "cell_type": "code",
   "execution_count": 29,
   "id": "9db31c30-2c74-47c8-80ed-5e1c33ee6122",
   "metadata": {},
   "outputs": [
    {
     "data": {
      "text/html": [
       "<div>\n",
       "<style scoped>\n",
       "    .dataframe tbody tr th:only-of-type {\n",
       "        vertical-align: middle;\n",
       "    }\n",
       "\n",
       "    .dataframe tbody tr th {\n",
       "        vertical-align: top;\n",
       "    }\n",
       "\n",
       "    .dataframe thead th {\n",
       "        text-align: right;\n",
       "    }\n",
       "</style>\n",
       "<table border=\"1\" class=\"dataframe\">\n",
       "  <thead>\n",
       "    <tr style=\"text-align: right;\">\n",
       "      <th></th>\n",
       "      <th>Startup</th>\n",
       "      <th>Product</th>\n",
       "      <th>Funding</th>\n",
       "      <th>Event</th>\n",
       "      <th>Result</th>\n",
       "      <th>OperatingState</th>\n",
       "    </tr>\n",
       "  </thead>\n",
       "  <tbody>\n",
       "    <tr>\n",
       "      <th>0</th>\n",
       "      <td>2600Hz</td>\n",
       "      <td>2600hz.com</td>\n",
       "      <td>NaN</td>\n",
       "      <td>Disrupt SF 2013</td>\n",
       "      <td>Contestant</td>\n",
       "      <td>Operating</td>\n",
       "    </tr>\n",
       "    <tr>\n",
       "      <th>1</th>\n",
       "      <td>3DLT</td>\n",
       "      <td>3dlt.com</td>\n",
       "      <td>$630K</td>\n",
       "      <td>Disrupt NYC 2013</td>\n",
       "      <td>Contestant</td>\n",
       "      <td>Closed</td>\n",
       "    </tr>\n",
       "    <tr>\n",
       "      <th>2</th>\n",
       "      <td>3DPrinterOS</td>\n",
       "      <td>3dprinteros.com</td>\n",
       "      <td>NaN</td>\n",
       "      <td>Disrupt SF 2016</td>\n",
       "      <td>Contestant</td>\n",
       "      <td>Operating</td>\n",
       "    </tr>\n",
       "    <tr>\n",
       "      <th>3</th>\n",
       "      <td>3Dprintler</td>\n",
       "      <td>3dprintler.com</td>\n",
       "      <td>$1M</td>\n",
       "      <td>Disrupt NY 2016</td>\n",
       "      <td>Audience choice</td>\n",
       "      <td>Operating</td>\n",
       "    </tr>\n",
       "    <tr>\n",
       "      <th>4</th>\n",
       "      <td>42 Technologies</td>\n",
       "      <td>42technologies.com</td>\n",
       "      <td>NaN</td>\n",
       "      <td>Disrupt NYC 2013</td>\n",
       "      <td>Contestant</td>\n",
       "      <td>Operating</td>\n",
       "    </tr>\n",
       "  </tbody>\n",
       "</table>\n",
       "</div>"
      ],
      "text/plain": [
       "           Startup             Product Funding             Event  \\\n",
       "0           2600Hz          2600hz.com     NaN   Disrupt SF 2013   \n",
       "1             3DLT            3dlt.com   $630K  Disrupt NYC 2013   \n",
       "2      3DPrinterOS     3dprinteros.com     NaN   Disrupt SF 2016   \n",
       "3       3Dprintler      3dprintler.com     $1M   Disrupt NY 2016   \n",
       "4  42 Technologies  42technologies.com     NaN  Disrupt NYC 2013   \n",
       "\n",
       "            Result OperatingState  \n",
       "0       Contestant      Operating  \n",
       "1       Contestant         Closed  \n",
       "2       Contestant      Operating  \n",
       "3  Audience choice      Operating  \n",
       "4       Contestant      Operating  "
      ]
     },
     "execution_count": 29,
     "metadata": {},
     "output_type": "execute_result"
    }
   ],
   "source": [
    "df1.head()"
   ]
  },
  {
   "cell_type": "code",
   "execution_count": 36,
   "id": "c19ee4a5-f245-4731-93a4-e89180ff1df2",
   "metadata": {},
   "outputs": [],
   "source": [
    "df2= df1.Funding"
   ]
  },
  {
   "cell_type": "code",
   "execution_count": 37,
   "id": "2f8c118e-32ec-4692-b876-bcc3ab462359",
   "metadata": {},
   "outputs": [
    {
     "data": {
      "text/plain": [
       "0      NaN\n",
       "1    $630K\n",
       "2      NaN\n",
       "3      $1M\n",
       "4      NaN\n",
       "Name: Funding, dtype: object"
      ]
     },
     "execution_count": 37,
     "metadata": {},
     "output_type": "execute_result"
    }
   ],
   "source": [
    "def to_millions (df2):\n",
    "    if df2.endswith('K'):\n",
    "        return float(df2.rstrip('K')) / 1000.0\n",
    "    else:\n",
    "        return float(df2)\n",
    "df2.head()"
   ]
  },
  {
   "cell_type": "code",
   "execution_count": 25,
   "id": "064259e5-c4c5-44d0-890d-2b0837f1d1ab",
   "metadata": {},
   "outputs": [],
   "source": [
    "def to_millions(s):\n",
    "  if s.endswith('K'):\n",
    "    return float(s.rstrip('K')) / 1000.0\n",
    "  else:\n",
    "    return float(s)"
   ]
  },
  {
   "cell_type": "code",
   "execution_count": null,
   "id": "41b1235c-72d5-4ceb-9a34-bf92763eec31",
   "metadata": {},
   "outputs": [],
   "source": []
  },
  {
   "cell_type": "code",
   "execution_count": null,
   "id": "e1904186-508a-4716-9aef-e68640a645ad",
   "metadata": {},
   "outputs": [],
   "source": []
  },
  {
   "cell_type": "code",
   "execution_count": null,
   "id": "56454e90-333b-490d-b1ce-8a21551d090e",
   "metadata": {},
   "outputs": [],
   "source": []
  },
  {
   "cell_type": "code",
   "execution_count": null,
   "id": "628ce5a1-1d27-49fe-8de2-906049fac2b1",
   "metadata": {},
   "outputs": [],
   "source": []
  },
  {
   "cell_type": "code",
   "execution_count": null,
   "id": "639ac7bb-e5d3-4e0a-b53a-2a788bbf4f99",
   "metadata": {},
   "outputs": [],
   "source": []
  }
 ],
 "metadata": {
  "kernelspec": {
   "display_name": "Python 3 (ipykernel)",
   "language": "python",
   "name": "python3"
  },
  "language_info": {
   "codemirror_mode": {
    "name": "ipython",
    "version": 3
   },
   "file_extension": ".py",
   "mimetype": "text/x-python",
   "name": "python",
   "nbconvert_exporter": "python",
   "pygments_lexer": "ipython3",
   "version": "3.9.12"
  }
 },
 "nbformat": 4,
 "nbformat_minor": 5
}
