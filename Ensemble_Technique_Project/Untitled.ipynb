{
 "cells": [
  {
   "cell_type": "code",
   "execution_count": 10,
   "id": "53fa8a04-e3f6-4007-a54c-a3fe590bfc4b",
   "metadata": {},
   "outputs": [],
   "source": [
    "import numpy as np\n",
    "import pandas as pd\n",
    "import matplotlib.pyplot as plt\n",
    "import seaborn as sns\n",
    "import plotly.express as px\n",
    "import plotly.graph_objects as go\n",
    "from plotly.subplots import make_subplots\n",
    "import missingno as msno\n",
    "\n",
    "from sklearn.model_selection import train_test_split\n",
    "from sklearn.preprocessing import StandardScaler\n",
    "from imblearn.over_sampling import SMOTE\n",
    "from sklearn.ensemble import BaggingClassifier\n",
    "from sklearn.tree import DecisionTreeClassifier\n",
    "from sklearn.ensemble import RandomForestClassifier, ExtraTreesClassifier, AdaBoostClassifier, GradientBoostingClassifier, VotingClassifier, StackingClassifier\n",
    "from xgboost import XGBClassifier, XGBRegressor\n",
    "from lightgbm import LGBMClassifier\n",
    "from catboost import CatBoostClassifier\n",
    "from sklearn.metrics import accuracy_score, classification_report, confusion_matrix, roc_auc_score, f1_score, ConfusionMatrixDisplay, r2_score\n",
    "\n",
    "np.random.seed(42)\n",
    "colors = ['#FF5851', '#F3C130', '#414A6B', '#B49A85', '#1C1B20']"
   ]
  },
  {
   "cell_type": "code",
   "execution_count": 11,
   "id": "2cb69762-0b47-4faf-8d83-172b91a70ed0",
   "metadata": {},
   "outputs": [],
   "source": [
    "df1 = pd.read_csv('TelcomCustomer-Churn_1.csv')"
   ]
  },
  {
   "cell_type": "code",
   "execution_count": 12,
   "id": "190b948e-6a0e-4ce7-9fe2-e45b25a69112",
   "metadata": {},
   "outputs": [],
   "source": [
    "df2 = pd.read_csv('TelcomCustomer-Churn_2.csv')"
   ]
  },
  {
   "cell_type": "code",
   "execution_count": 13,
   "id": "53f82409-1900-4bb5-be89-82bf7d3e279e",
   "metadata": {},
   "outputs": [],
   "source": [
    "df=df1.merge(df2)"
   ]
  },
  {
   "cell_type": "code",
   "execution_count": 14,
   "id": "d7bd0283-5156-4fe0-a654-5140d62e1740",
   "metadata": {},
   "outputs": [],
   "source": [
    "import pickle"
   ]
  },
  {
   "cell_type": "code",
   "execution_count": null,
   "id": "8f30d99a-6e13-4e4b-90d6-e08f4c104343",
   "metadata": {},
   "outputs": [],
   "source": []
  }
 ],
 "metadata": {
  "kernelspec": {
   "display_name": "Python 3 (ipykernel)",
   "language": "python",
   "name": "python3"
  },
  "language_info": {
   "codemirror_mode": {
    "name": "ipython",
    "version": 3
   },
   "file_extension": ".py",
   "mimetype": "text/x-python",
   "name": "python",
   "nbconvert_exporter": "python",
   "pygments_lexer": "ipython3",
   "version": "3.9.12"
  }
 },
 "nbformat": 4,
 "nbformat_minor": 5
}
