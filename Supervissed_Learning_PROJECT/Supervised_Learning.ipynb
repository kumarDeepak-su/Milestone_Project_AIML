{
 "cells": [
  {
   "cell_type": "markdown",
   "id": "fecf8d66-5e13-41a5-badd-8c32955125a1",
   "metadata": {},
   "source": [
    "****PART- A****"
   ]
  },
  {
   "cell_type": "code",
   "execution_count": 149,
   "id": "80877fec-be01-46c7-adfd-5766f3d89ea4",
   "metadata": {},
   "outputs": [],
   "source": [
    "import numpy as np\n",
    "import pandas as pd\n",
    "import scipy.stats as stats\n",
    "import matplotlib.pyplot as plt\n",
    "import seaborn as sns\n",
    "%matplotlib inline"
   ]
  },
  {
   "cell_type": "code",
   "execution_count": 258,
   "id": "9a51b616-7f6d-41e2-b014-c1002a83b68e",
   "metadata": {},
   "outputs": [],
   "source": [
    "from sklearn.preprocessing import LabelEncoder\n",
    "from sklearn.preprocessing import MinMaxScaler\n",
    "from scipy.stats import zscore\n",
    "from sklearn.neighbors import KNeighborsClassifier\n",
    "from sklearn.metrics import accuracy_score, confusion_matrix\n",
    "from sklearn.linear_model import LogisticRegression\n",
    "from sklearn.naive_bayes import GaussianNB\n",
    "from sklearn.svm import SVC\n",
    "from sklearn.metrics import classification_report\n",
    "from sklearn import model_selection\n",
    "from collections import Counter\n",
    "from sklearn.model_selection import cross_val_score\n",
    "from sklearn.metrics import accuracy_score, precision_score, recall_score\n",
    "import warnings\n",
    "warnings.filterwarnings(\"ignore\")"
   ]
  },
  {
   "cell_type": "code",
   "execution_count": 259,
   "id": "b6b5d263-3300-4d8e-82e4-a5dd67d0e6c0",
   "metadata": {},
   "outputs": [],
   "source": [
    "from sklearn import neighbors, datasets, preprocessing\n",
    "from sklearn.model_selection import train_test_split"
   ]
  },
  {
   "cell_type": "markdown",
   "id": "e70f0df7-dcf6-4448-be62-2eaf71feb50b",
   "metadata": {},
   "source": [
    "**DOMAIN: Medical**\n",
    "\n",
    "**CONTEXT: Medical research university X is undergoing a deep research on patients with certain conditions. University has an internal AI team.\n",
    "Due to confidentiality the patient’s details and the conditions are masked by the client by providing different datasets to the AI team for\n",
    "developing a AIML model which can predict the condition of the patient depending on the received test results.**\n",
    "\n",
    "**• DATA DESCRIPTION: The data consists of biomechanics features of the patients according to their current conditions. Each patient is\n",
    "represented in the data set by six biomechanics attributes derived from the shape and orientation of the condition to their body part.**\n",
    "\n",
    "**• PROJECT OBJECTIVE: To Demonstrate the ability to fetch, process and leverage data to generate useful predictions by training Supervised\n",
    "Learning algorithms.**\n",
    "\n",
    "**• STEPS AND TASK [30 Marks]:**"
   ]
  },
  {
   "cell_type": "markdown",
   "id": "dc854e09-9bbc-4e0c-8607-a4b77f2acd08",
   "metadata": {},
   "source": [
    "**1. Data Understanding: [5 Marks]**"
   ]
  },
  {
   "cell_type": "markdown",
   "id": "534fab2a-21fc-4eee-938f-65d6f41c7f57",
   "metadata": {},
   "source": [
    "**A. Read all the 3 CSV files as DataFrame and store them into 3 separate variables. [1 Mark]**"
   ]
  },
  {
   "cell_type": "code",
   "execution_count": 152,
   "id": "93d1ae5b-0ea9-44c2-b403-92b8daafb67f",
   "metadata": {},
   "outputs": [],
   "source": [
    "df = pd.read_csv('Normal.csv')\n",
    "df1 = pd.read_csv('Type_H.csv')\n",
    "df2 = pd.read_csv('Type_S.csv')"
   ]
  },
  {
   "cell_type": "markdown",
   "id": "3884e4f8-d6b7-448d-a757-c4d4718830d0",
   "metadata": {},
   "source": [
    "*Checking First and Last 5 Rows of Each Data set*"
   ]
  },
  {
   "cell_type": "markdown",
   "id": "32022ac6-215d-4937-b448-7acd02cfc7c5",
   "metadata": {},
   "source": [
    "*Data set 1*"
   ]
  },
  {
   "cell_type": "code",
   "execution_count": 153,
   "id": "386c5830-8a98-4bbd-a53b-ddfba0ce40b5",
   "metadata": {},
   "outputs": [
    {
     "data": {
      "text/html": [
       "<div>\n",
       "<style scoped>\n",
       "    .dataframe tbody tr th:only-of-type {\n",
       "        vertical-align: middle;\n",
       "    }\n",
       "\n",
       "    .dataframe tbody tr th {\n",
       "        vertical-align: top;\n",
       "    }\n",
       "\n",
       "    .dataframe thead th {\n",
       "        text-align: right;\n",
       "    }\n",
       "</style>\n",
       "<table border=\"1\" class=\"dataframe\">\n",
       "  <thead>\n",
       "    <tr style=\"text-align: right;\">\n",
       "      <th></th>\n",
       "      <th>P_incidence</th>\n",
       "      <th>P_tilt</th>\n",
       "      <th>L_angle</th>\n",
       "      <th>S_slope</th>\n",
       "      <th>P_radius</th>\n",
       "      <th>S_Degree</th>\n",
       "      <th>Class</th>\n",
       "    </tr>\n",
       "  </thead>\n",
       "  <tbody>\n",
       "    <tr>\n",
       "      <th>0</th>\n",
       "      <td>38.505273</td>\n",
       "      <td>16.964297</td>\n",
       "      <td>35.112814</td>\n",
       "      <td>21.540976</td>\n",
       "      <td>127.632875</td>\n",
       "      <td>7.986683</td>\n",
       "      <td>Normal</td>\n",
       "    </tr>\n",
       "    <tr>\n",
       "      <th>1</th>\n",
       "      <td>54.920858</td>\n",
       "      <td>18.968430</td>\n",
       "      <td>51.601455</td>\n",
       "      <td>35.952428</td>\n",
       "      <td>125.846646</td>\n",
       "      <td>2.001642</td>\n",
       "      <td>Normal</td>\n",
       "    </tr>\n",
       "    <tr>\n",
       "      <th>2</th>\n",
       "      <td>44.362490</td>\n",
       "      <td>8.945435</td>\n",
       "      <td>46.902096</td>\n",
       "      <td>35.417055</td>\n",
       "      <td>129.220682</td>\n",
       "      <td>4.994195</td>\n",
       "      <td>Normal</td>\n",
       "    </tr>\n",
       "    <tr>\n",
       "      <th>3</th>\n",
       "      <td>48.318931</td>\n",
       "      <td>17.452121</td>\n",
       "      <td>48.000000</td>\n",
       "      <td>30.866809</td>\n",
       "      <td>128.980308</td>\n",
       "      <td>-0.910941</td>\n",
       "      <td>Normal</td>\n",
       "    </tr>\n",
       "    <tr>\n",
       "      <th>4</th>\n",
       "      <td>45.701789</td>\n",
       "      <td>10.659859</td>\n",
       "      <td>42.577846</td>\n",
       "      <td>35.041929</td>\n",
       "      <td>130.178314</td>\n",
       "      <td>-3.388910</td>\n",
       "      <td>Normal</td>\n",
       "    </tr>\n",
       "  </tbody>\n",
       "</table>\n",
       "</div>"
      ],
      "text/plain": [
       "   P_incidence     P_tilt    L_angle    S_slope    P_radius  S_Degree   Class\n",
       "0    38.505273  16.964297  35.112814  21.540976  127.632875  7.986683  Normal\n",
       "1    54.920858  18.968430  51.601455  35.952428  125.846646  2.001642  Normal\n",
       "2    44.362490   8.945435  46.902096  35.417055  129.220682  4.994195  Normal\n",
       "3    48.318931  17.452121  48.000000  30.866809  128.980308 -0.910941  Normal\n",
       "4    45.701789  10.659859  42.577846  35.041929  130.178314 -3.388910  Normal"
      ]
     },
     "execution_count": 153,
     "metadata": {},
     "output_type": "execute_result"
    }
   ],
   "source": [
    "df.head()"
   ]
  },
  {
   "cell_type": "code",
   "execution_count": 154,
   "id": "3b175b90-3723-4243-bea5-1815dd5e6597",
   "metadata": {},
   "outputs": [
    {
     "data": {
      "text/html": [
       "<div>\n",
       "<style scoped>\n",
       "    .dataframe tbody tr th:only-of-type {\n",
       "        vertical-align: middle;\n",
       "    }\n",
       "\n",
       "    .dataframe tbody tr th {\n",
       "        vertical-align: top;\n",
       "    }\n",
       "\n",
       "    .dataframe thead th {\n",
       "        text-align: right;\n",
       "    }\n",
       "</style>\n",
       "<table border=\"1\" class=\"dataframe\">\n",
       "  <thead>\n",
       "    <tr style=\"text-align: right;\">\n",
       "      <th></th>\n",
       "      <th>P_incidence</th>\n",
       "      <th>P_tilt</th>\n",
       "      <th>L_angle</th>\n",
       "      <th>S_slope</th>\n",
       "      <th>P_radius</th>\n",
       "      <th>S_Degree</th>\n",
       "      <th>Class</th>\n",
       "    </tr>\n",
       "  </thead>\n",
       "  <tbody>\n",
       "    <tr>\n",
       "      <th>95</th>\n",
       "      <td>47.903565</td>\n",
       "      <td>13.616688</td>\n",
       "      <td>36.000000</td>\n",
       "      <td>34.286877</td>\n",
       "      <td>117.449062</td>\n",
       "      <td>-4.245395</td>\n",
       "      <td>Normal</td>\n",
       "    </tr>\n",
       "    <tr>\n",
       "      <th>96</th>\n",
       "      <td>53.936748</td>\n",
       "      <td>20.721496</td>\n",
       "      <td>29.220534</td>\n",
       "      <td>33.215251</td>\n",
       "      <td>114.365845</td>\n",
       "      <td>-0.421010</td>\n",
       "      <td>Normal</td>\n",
       "    </tr>\n",
       "    <tr>\n",
       "      <th>97</th>\n",
       "      <td>61.446597</td>\n",
       "      <td>22.694968</td>\n",
       "      <td>46.170347</td>\n",
       "      <td>38.751628</td>\n",
       "      <td>125.670725</td>\n",
       "      <td>-2.707880</td>\n",
       "      <td>Normal</td>\n",
       "    </tr>\n",
       "    <tr>\n",
       "      <th>98</th>\n",
       "      <td>45.252792</td>\n",
       "      <td>8.693157</td>\n",
       "      <td>41.583126</td>\n",
       "      <td>36.559635</td>\n",
       "      <td>118.545842</td>\n",
       "      <td>0.214750</td>\n",
       "      <td>Normal</td>\n",
       "    </tr>\n",
       "    <tr>\n",
       "      <th>99</th>\n",
       "      <td>33.841641</td>\n",
       "      <td>5.073991</td>\n",
       "      <td>36.641233</td>\n",
       "      <td>28.767649</td>\n",
       "      <td>123.945244</td>\n",
       "      <td>-0.199249</td>\n",
       "      <td>Normal</td>\n",
       "    </tr>\n",
       "  </tbody>\n",
       "</table>\n",
       "</div>"
      ],
      "text/plain": [
       "    P_incidence     P_tilt    L_angle    S_slope    P_radius  S_Degree   Class\n",
       "95    47.903565  13.616688  36.000000  34.286877  117.449062 -4.245395  Normal\n",
       "96    53.936748  20.721496  29.220534  33.215251  114.365845 -0.421010  Normal\n",
       "97    61.446597  22.694968  46.170347  38.751628  125.670725 -2.707880  Normal\n",
       "98    45.252792   8.693157  41.583126  36.559635  118.545842  0.214750  Normal\n",
       "99    33.841641   5.073991  36.641233  28.767649  123.945244 -0.199249  Normal"
      ]
     },
     "execution_count": 154,
     "metadata": {},
     "output_type": "execute_result"
    }
   ],
   "source": [
    "df.tail()"
   ]
  },
  {
   "cell_type": "markdown",
   "id": "eabbca2c-3b53-4a73-9a00-c049dbabe3a8",
   "metadata": {},
   "source": [
    "*Data set2*"
   ]
  },
  {
   "cell_type": "code",
   "execution_count": 155,
   "id": "80009b6d-e8dc-4d9b-8c25-ed27d91e634a",
   "metadata": {},
   "outputs": [
    {
     "data": {
      "text/html": [
       "<div>\n",
       "<style scoped>\n",
       "    .dataframe tbody tr th:only-of-type {\n",
       "        vertical-align: middle;\n",
       "    }\n",
       "\n",
       "    .dataframe tbody tr th {\n",
       "        vertical-align: top;\n",
       "    }\n",
       "\n",
       "    .dataframe thead th {\n",
       "        text-align: right;\n",
       "    }\n",
       "</style>\n",
       "<table border=\"1\" class=\"dataframe\">\n",
       "  <thead>\n",
       "    <tr style=\"text-align: right;\">\n",
       "      <th></th>\n",
       "      <th>P_incidence</th>\n",
       "      <th>P_tilt</th>\n",
       "      <th>L_angle</th>\n",
       "      <th>S_slope</th>\n",
       "      <th>P_radius</th>\n",
       "      <th>S_Degree</th>\n",
       "      <th>Class</th>\n",
       "    </tr>\n",
       "  </thead>\n",
       "  <tbody>\n",
       "    <tr>\n",
       "      <th>0</th>\n",
       "      <td>63.027817</td>\n",
       "      <td>22.552586</td>\n",
       "      <td>39.609117</td>\n",
       "      <td>40.475232</td>\n",
       "      <td>98.672917</td>\n",
       "      <td>-0.254400</td>\n",
       "      <td>Type_H</td>\n",
       "    </tr>\n",
       "    <tr>\n",
       "      <th>1</th>\n",
       "      <td>39.056951</td>\n",
       "      <td>10.060991</td>\n",
       "      <td>25.015378</td>\n",
       "      <td>28.995960</td>\n",
       "      <td>114.405425</td>\n",
       "      <td>4.564259</td>\n",
       "      <td>Type_H</td>\n",
       "    </tr>\n",
       "    <tr>\n",
       "      <th>2</th>\n",
       "      <td>68.832021</td>\n",
       "      <td>22.218482</td>\n",
       "      <td>50.092194</td>\n",
       "      <td>46.613539</td>\n",
       "      <td>105.985135</td>\n",
       "      <td>-3.530317</td>\n",
       "      <td>Type_H</td>\n",
       "    </tr>\n",
       "    <tr>\n",
       "      <th>3</th>\n",
       "      <td>69.297008</td>\n",
       "      <td>24.652878</td>\n",
       "      <td>44.311238</td>\n",
       "      <td>44.644130</td>\n",
       "      <td>101.868495</td>\n",
       "      <td>11.211523</td>\n",
       "      <td>Type_H</td>\n",
       "    </tr>\n",
       "    <tr>\n",
       "      <th>4</th>\n",
       "      <td>49.712859</td>\n",
       "      <td>9.652075</td>\n",
       "      <td>28.317406</td>\n",
       "      <td>40.060784</td>\n",
       "      <td>108.168725</td>\n",
       "      <td>7.918501</td>\n",
       "      <td>Type_H</td>\n",
       "    </tr>\n",
       "  </tbody>\n",
       "</table>\n",
       "</div>"
      ],
      "text/plain": [
       "   P_incidence     P_tilt    L_angle    S_slope    P_radius   S_Degree   Class\n",
       "0    63.027817  22.552586  39.609117  40.475232   98.672917  -0.254400  Type_H\n",
       "1    39.056951  10.060991  25.015378  28.995960  114.405425   4.564259  Type_H\n",
       "2    68.832021  22.218482  50.092194  46.613539  105.985135  -3.530317  Type_H\n",
       "3    69.297008  24.652878  44.311238  44.644130  101.868495  11.211523  Type_H\n",
       "4    49.712859   9.652075  28.317406  40.060784  108.168725   7.918501  Type_H"
      ]
     },
     "execution_count": 155,
     "metadata": {},
     "output_type": "execute_result"
    }
   ],
   "source": [
    "df1.head()"
   ]
  },
  {
   "cell_type": "code",
   "execution_count": 156,
   "id": "8b19a962-eb4b-4e03-a4be-6c7770fa0114",
   "metadata": {},
   "outputs": [
    {
     "data": {
      "text/html": [
       "<div>\n",
       "<style scoped>\n",
       "    .dataframe tbody tr th:only-of-type {\n",
       "        vertical-align: middle;\n",
       "    }\n",
       "\n",
       "    .dataframe tbody tr th {\n",
       "        vertical-align: top;\n",
       "    }\n",
       "\n",
       "    .dataframe thead th {\n",
       "        text-align: right;\n",
       "    }\n",
       "</style>\n",
       "<table border=\"1\" class=\"dataframe\">\n",
       "  <thead>\n",
       "    <tr style=\"text-align: right;\">\n",
       "      <th></th>\n",
       "      <th>P_incidence</th>\n",
       "      <th>P_tilt</th>\n",
       "      <th>L_angle</th>\n",
       "      <th>S_slope</th>\n",
       "      <th>P_radius</th>\n",
       "      <th>S_Degree</th>\n",
       "      <th>Class</th>\n",
       "    </tr>\n",
       "  </thead>\n",
       "  <tbody>\n",
       "    <tr>\n",
       "      <th>55</th>\n",
       "      <td>47.657730</td>\n",
       "      <td>13.277385</td>\n",
       "      <td>36.679985</td>\n",
       "      <td>34.380345</td>\n",
       "      <td>98.249781</td>\n",
       "      <td>6.273012</td>\n",
       "      <td>Type_H</td>\n",
       "    </tr>\n",
       "    <tr>\n",
       "      <th>56</th>\n",
       "      <td>43.349606</td>\n",
       "      <td>7.467469</td>\n",
       "      <td>28.065483</td>\n",
       "      <td>35.882137</td>\n",
       "      <td>112.776187</td>\n",
       "      <td>5.753277</td>\n",
       "      <td>Type_H</td>\n",
       "    </tr>\n",
       "    <tr>\n",
       "      <th>57</th>\n",
       "      <td>46.855781</td>\n",
       "      <td>15.351514</td>\n",
       "      <td>38.000000</td>\n",
       "      <td>31.504267</td>\n",
       "      <td>116.250917</td>\n",
       "      <td>1.662706</td>\n",
       "      <td>Type_H</td>\n",
       "    </tr>\n",
       "    <tr>\n",
       "      <th>58</th>\n",
       "      <td>43.203185</td>\n",
       "      <td>19.663146</td>\n",
       "      <td>35.000000</td>\n",
       "      <td>23.540039</td>\n",
       "      <td>124.846109</td>\n",
       "      <td>-2.919076</td>\n",
       "      <td>Type_H</td>\n",
       "    </tr>\n",
       "    <tr>\n",
       "      <th>59</th>\n",
       "      <td>48.109236</td>\n",
       "      <td>14.930725</td>\n",
       "      <td>35.564683</td>\n",
       "      <td>33.178512</td>\n",
       "      <td>124.056452</td>\n",
       "      <td>7.947905</td>\n",
       "      <td>Type_H</td>\n",
       "    </tr>\n",
       "  </tbody>\n",
       "</table>\n",
       "</div>"
      ],
      "text/plain": [
       "    P_incidence     P_tilt    L_angle    S_slope    P_radius  S_Degree   Class\n",
       "55    47.657730  13.277385  36.679985  34.380345   98.249781  6.273012  Type_H\n",
       "56    43.349606   7.467469  28.065483  35.882137  112.776187  5.753277  Type_H\n",
       "57    46.855781  15.351514  38.000000  31.504267  116.250917  1.662706  Type_H\n",
       "58    43.203185  19.663146  35.000000  23.540039  124.846109 -2.919076  Type_H\n",
       "59    48.109236  14.930725  35.564683  33.178512  124.056452  7.947905  Type_H"
      ]
     },
     "execution_count": 156,
     "metadata": {},
     "output_type": "execute_result"
    }
   ],
   "source": [
    "df1.tail()"
   ]
  },
  {
   "cell_type": "markdown",
   "id": "af6078bd-fcbe-4903-ae30-196ecf53dbc9",
   "metadata": {},
   "source": [
    "*Data set 3*"
   ]
  },
  {
   "cell_type": "code",
   "execution_count": 157,
   "id": "efd76f4b-14e3-46ed-bce7-e3a583704275",
   "metadata": {},
   "outputs": [
    {
     "data": {
      "text/html": [
       "<div>\n",
       "<style scoped>\n",
       "    .dataframe tbody tr th:only-of-type {\n",
       "        vertical-align: middle;\n",
       "    }\n",
       "\n",
       "    .dataframe tbody tr th {\n",
       "        vertical-align: top;\n",
       "    }\n",
       "\n",
       "    .dataframe thead th {\n",
       "        text-align: right;\n",
       "    }\n",
       "</style>\n",
       "<table border=\"1\" class=\"dataframe\">\n",
       "  <thead>\n",
       "    <tr style=\"text-align: right;\">\n",
       "      <th></th>\n",
       "      <th>P_incidence</th>\n",
       "      <th>P_tilt</th>\n",
       "      <th>L_angle</th>\n",
       "      <th>S_slope</th>\n",
       "      <th>P_radius</th>\n",
       "      <th>S_Degree</th>\n",
       "      <th>Class</th>\n",
       "    </tr>\n",
       "  </thead>\n",
       "  <tbody>\n",
       "    <tr>\n",
       "      <th>0</th>\n",
       "      <td>74.377678</td>\n",
       "      <td>32.053104</td>\n",
       "      <td>78.772013</td>\n",
       "      <td>42.324573</td>\n",
       "      <td>143.560690</td>\n",
       "      <td>56.125906</td>\n",
       "      <td>Type_S</td>\n",
       "    </tr>\n",
       "    <tr>\n",
       "      <th>1</th>\n",
       "      <td>89.680567</td>\n",
       "      <td>32.704435</td>\n",
       "      <td>83.130732</td>\n",
       "      <td>56.976132</td>\n",
       "      <td>129.955476</td>\n",
       "      <td>92.027277</td>\n",
       "      <td>Type_S</td>\n",
       "    </tr>\n",
       "    <tr>\n",
       "      <th>2</th>\n",
       "      <td>44.529051</td>\n",
       "      <td>9.433234</td>\n",
       "      <td>52.000000</td>\n",
       "      <td>35.095817</td>\n",
       "      <td>134.711772</td>\n",
       "      <td>29.106575</td>\n",
       "      <td>Type_S</td>\n",
       "    </tr>\n",
       "    <tr>\n",
       "      <th>3</th>\n",
       "      <td>77.690577</td>\n",
       "      <td>21.380645</td>\n",
       "      <td>64.429442</td>\n",
       "      <td>56.309932</td>\n",
       "      <td>114.818751</td>\n",
       "      <td>26.931841</td>\n",
       "      <td>Type_S</td>\n",
       "    </tr>\n",
       "    <tr>\n",
       "      <th>4</th>\n",
       "      <td>76.147212</td>\n",
       "      <td>21.936186</td>\n",
       "      <td>82.961502</td>\n",
       "      <td>54.211027</td>\n",
       "      <td>123.932010</td>\n",
       "      <td>10.431972</td>\n",
       "      <td>Type_S</td>\n",
       "    </tr>\n",
       "  </tbody>\n",
       "</table>\n",
       "</div>"
      ],
      "text/plain": [
       "   P_incidence     P_tilt    L_angle    S_slope    P_radius   S_Degree   Class\n",
       "0    74.377678  32.053104  78.772013  42.324573  143.560690  56.125906  Type_S\n",
       "1    89.680567  32.704435  83.130732  56.976132  129.955476  92.027277  Type_S\n",
       "2    44.529051   9.433234  52.000000  35.095817  134.711772  29.106575  Type_S\n",
       "3    77.690577  21.380645  64.429442  56.309932  114.818751  26.931841  Type_S\n",
       "4    76.147212  21.936186  82.961502  54.211027  123.932010  10.431972  Type_S"
      ]
     },
     "execution_count": 157,
     "metadata": {},
     "output_type": "execute_result"
    }
   ],
   "source": [
    "df2.head()"
   ]
  },
  {
   "cell_type": "code",
   "execution_count": 158,
   "id": "bfaabc7d-4463-484b-a2d8-4425cdf24510",
   "metadata": {},
   "outputs": [
    {
     "data": {
      "text/html": [
       "<div>\n",
       "<style scoped>\n",
       "    .dataframe tbody tr th:only-of-type {\n",
       "        vertical-align: middle;\n",
       "    }\n",
       "\n",
       "    .dataframe tbody tr th {\n",
       "        vertical-align: top;\n",
       "    }\n",
       "\n",
       "    .dataframe thead th {\n",
       "        text-align: right;\n",
       "    }\n",
       "</style>\n",
       "<table border=\"1\" class=\"dataframe\">\n",
       "  <thead>\n",
       "    <tr style=\"text-align: right;\">\n",
       "      <th></th>\n",
       "      <th>P_incidence</th>\n",
       "      <th>P_tilt</th>\n",
       "      <th>L_angle</th>\n",
       "      <th>S_slope</th>\n",
       "      <th>P_radius</th>\n",
       "      <th>S_Degree</th>\n",
       "      <th>Class</th>\n",
       "    </tr>\n",
       "  </thead>\n",
       "  <tbody>\n",
       "    <tr>\n",
       "      <th>145</th>\n",
       "      <td>80.111572</td>\n",
       "      <td>33.942432</td>\n",
       "      <td>85.101608</td>\n",
       "      <td>46.169139</td>\n",
       "      <td>125.593624</td>\n",
       "      <td>100.292107</td>\n",
       "      <td>Type_S</td>\n",
       "    </tr>\n",
       "    <tr>\n",
       "      <th>146</th>\n",
       "      <td>95.480229</td>\n",
       "      <td>46.550053</td>\n",
       "      <td>59.000000</td>\n",
       "      <td>48.930176</td>\n",
       "      <td>96.683903</td>\n",
       "      <td>77.283072</td>\n",
       "      <td>Type_S</td>\n",
       "    </tr>\n",
       "    <tr>\n",
       "      <th>147</th>\n",
       "      <td>74.094731</td>\n",
       "      <td>18.823727</td>\n",
       "      <td>76.032156</td>\n",
       "      <td>55.271004</td>\n",
       "      <td>128.405731</td>\n",
       "      <td>73.388216</td>\n",
       "      <td>Type_S</td>\n",
       "    </tr>\n",
       "    <tr>\n",
       "      <th>148</th>\n",
       "      <td>87.679087</td>\n",
       "      <td>20.365613</td>\n",
       "      <td>93.822416</td>\n",
       "      <td>67.313473</td>\n",
       "      <td>120.944829</td>\n",
       "      <td>76.730629</td>\n",
       "      <td>Type_S</td>\n",
       "    </tr>\n",
       "    <tr>\n",
       "      <th>149</th>\n",
       "      <td>48.259920</td>\n",
       "      <td>16.417462</td>\n",
       "      <td>36.329137</td>\n",
       "      <td>31.842457</td>\n",
       "      <td>94.882336</td>\n",
       "      <td>28.343799</td>\n",
       "      <td>Type_S</td>\n",
       "    </tr>\n",
       "  </tbody>\n",
       "</table>\n",
       "</div>"
      ],
      "text/plain": [
       "     P_incidence     P_tilt    L_angle    S_slope    P_radius    S_Degree  \\\n",
       "145    80.111572  33.942432  85.101608  46.169139  125.593624  100.292107   \n",
       "146    95.480229  46.550053  59.000000  48.930176   96.683903   77.283072   \n",
       "147    74.094731  18.823727  76.032156  55.271004  128.405731   73.388216   \n",
       "148    87.679087  20.365613  93.822416  67.313473  120.944829   76.730629   \n",
       "149    48.259920  16.417462  36.329137  31.842457   94.882336   28.343799   \n",
       "\n",
       "      Class  \n",
       "145  Type_S  \n",
       "146  Type_S  \n",
       "147  Type_S  \n",
       "148  Type_S  \n",
       "149  Type_S  "
      ]
     },
     "execution_count": 158,
     "metadata": {},
     "output_type": "execute_result"
    }
   ],
   "source": [
    "df2.tail()"
   ]
  },
  {
   "cell_type": "markdown",
   "id": "156b1f36-08a3-4e31-8b94-2f24be6daac5",
   "metadata": {},
   "source": [
    "**B. Print Shape and columns of all the 3 DataFrames. [1 Mark]**"
   ]
  },
  {
   "cell_type": "markdown",
   "id": "0f6e0cd6-7f9a-45bc-bd3e-411cdaff1a2d",
   "metadata": {},
   "source": [
    "*Shape of all the 3 Data set*\n",
    "\n",
    "*Data set 1*"
   ]
  },
  {
   "cell_type": "code",
   "execution_count": 159,
   "id": "725ebf98-2571-4997-879b-ec3db91ac6e3",
   "metadata": {},
   "outputs": [
    {
     "data": {
      "text/plain": [
       "(100, 7)"
      ]
     },
     "execution_count": 159,
     "metadata": {},
     "output_type": "execute_result"
    }
   ],
   "source": [
    "df.shape"
   ]
  },
  {
   "cell_type": "markdown",
   "id": "3dfd8d0f-cc9b-4a8e-88dc-65b300076ea8",
   "metadata": {},
   "source": [
    "**First Data set 'Normal.csv' has 100 rows and 7 columns**"
   ]
  },
  {
   "cell_type": "markdown",
   "id": "e5e731b4-e358-47a7-89d6-0be23f163fb7",
   "metadata": {},
   "source": [
    "*Data set 2*"
   ]
  },
  {
   "cell_type": "code",
   "execution_count": 160,
   "id": "cea6ce9c-ae48-4896-afad-42202c48b5b0",
   "metadata": {},
   "outputs": [
    {
     "data": {
      "text/plain": [
       "(60, 7)"
      ]
     },
     "execution_count": 160,
     "metadata": {},
     "output_type": "execute_result"
    }
   ],
   "source": [
    "df1.shape"
   ]
  },
  {
   "cell_type": "markdown",
   "id": "79394646-0f00-4b18-b848-51e00d7bb2cc",
   "metadata": {},
   "source": [
    "**Second Data set 'Type_H.csv' has 60 rows and 7 columns**"
   ]
  },
  {
   "cell_type": "markdown",
   "id": "96e05bdc-f22e-41da-82b8-de5e48de6ba8",
   "metadata": {},
   "source": [
    "*Data set 3*"
   ]
  },
  {
   "cell_type": "code",
   "execution_count": 161,
   "id": "13f3f8bc-ba5d-427d-89f1-b83300eac398",
   "metadata": {},
   "outputs": [
    {
     "data": {
      "text/plain": [
       "(150, 7)"
      ]
     },
     "execution_count": 161,
     "metadata": {},
     "output_type": "execute_result"
    }
   ],
   "source": [
    "df2.shape"
   ]
  },
  {
   "cell_type": "markdown",
   "id": "5fa16c3c-81fa-471d-a18c-2a5aea0e2324",
   "metadata": {},
   "source": [
    "**Third Data set 'Type_S.csv' has 150 rows and 7 columns**"
   ]
  },
  {
   "cell_type": "markdown",
   "id": "c4eb07c7-fc4e-41e1-86d3-faed2a957a49",
   "metadata": {},
   "source": [
    "**C. Compare Column names of all the 3 DataFrames and clearly write observations. [1 Mark]**"
   ]
  },
  {
   "cell_type": "code",
   "execution_count": 162,
   "id": "3954550e-763d-48b8-b117-10ba4307f573",
   "metadata": {},
   "outputs": [
    {
     "name": "stdout",
     "output_type": "stream",
     "text": [
      "Identical columns in all the Data set.\n",
      "Identical columns in all the Data set.\n"
     ]
    }
   ],
   "source": [
    "def compare(df, df1):\n",
    "    orig = set(df.columns)\n",
    "    \n",
    "    c = set(df1.columns)\n",
    "\n",
    "    #testing if length of set is same like length of columns names\n",
    "    if len(c) != len(df1.columns):\n",
    "        return ('Extra columns in the dataframe.')\n",
    "    #if same sets\n",
    "    elif (c == orig):\n",
    "        return ('Identical columns in all the Data set.')\n",
    "    #compared subsets\n",
    "    elif c.issubset(orig):\n",
    "        return ('Missing columns in dataframe.')\n",
    "    #compared subsets\n",
    "    elif orig.issubset(c):\n",
    "        return ('Extra columns in dataframe.')\n",
    "    else:\n",
    "        return ('Column names are incorrect.')\n",
    "print(compare(df, df1))                    \n",
    "print(compare(df, df2)) "
   ]
  },
  {
   "cell_type": "markdown",
   "id": "1485fac0-7bc7-49f9-8d65-357460b1ab6d",
   "metadata": {},
   "source": [
    "**D. Print DataTypes of all the 3 DataFrames. [1 Mark]**"
   ]
  },
  {
   "cell_type": "markdown",
   "id": "900c3bff-7bf7-4406-885c-b1d21002516d",
   "metadata": {},
   "source": [
    "**Data set 1**"
   ]
  },
  {
   "cell_type": "code",
   "execution_count": 163,
   "id": "e0da88fc-c527-42bb-b060-588db198c8cd",
   "metadata": {},
   "outputs": [
    {
     "name": "stdout",
     "output_type": "stream",
     "text": [
      "<class 'pandas.core.frame.DataFrame'>\n",
      "RangeIndex: 100 entries, 0 to 99\n",
      "Data columns (total 7 columns):\n",
      " #   Column       Non-Null Count  Dtype  \n",
      "---  ------       --------------  -----  \n",
      " 0   P_incidence  100 non-null    float64\n",
      " 1   P_tilt       100 non-null    float64\n",
      " 2   L_angle      100 non-null    float64\n",
      " 3   S_slope      100 non-null    float64\n",
      " 4   P_radius     100 non-null    float64\n",
      " 5   S_Degree     100 non-null    float64\n",
      " 6   Class        100 non-null    object \n",
      "dtypes: float64(6), object(1)\n",
      "memory usage: 5.6+ KB\n"
     ]
    }
   ],
   "source": [
    "df.info()"
   ]
  },
  {
   "cell_type": "code",
   "execution_count": 164,
   "id": "10c6b6e4-040b-4e3c-9d6f-319b2fc1a45a",
   "metadata": {},
   "outputs": [
    {
     "data": {
      "text/plain": [
       "P_incidence    float64\n",
       "P_tilt         float64\n",
       "L_angle        float64\n",
       "S_slope        float64\n",
       "P_radius       float64\n",
       "S_Degree       float64\n",
       "Class           object\n",
       "dtype: object"
      ]
     },
     "execution_count": 164,
     "metadata": {},
     "output_type": "execute_result"
    }
   ],
   "source": [
    "df.dtypes"
   ]
  },
  {
   "cell_type": "markdown",
   "id": "3e42d44f-f658-4f69-beed-6fa12be3a3e4",
   "metadata": {},
   "source": [
    "**Data set 2**"
   ]
  },
  {
   "cell_type": "code",
   "execution_count": 165,
   "id": "5945bb97-fdfb-452e-9711-a945091d2ac6",
   "metadata": {},
   "outputs": [
    {
     "name": "stdout",
     "output_type": "stream",
     "text": [
      "<class 'pandas.core.frame.DataFrame'>\n",
      "RangeIndex: 60 entries, 0 to 59\n",
      "Data columns (total 7 columns):\n",
      " #   Column       Non-Null Count  Dtype  \n",
      "---  ------       --------------  -----  \n",
      " 0   P_incidence  60 non-null     float64\n",
      " 1   P_tilt       60 non-null     float64\n",
      " 2   L_angle      60 non-null     float64\n",
      " 3   S_slope      60 non-null     float64\n",
      " 4   P_radius     60 non-null     float64\n",
      " 5   S_Degree     60 non-null     float64\n",
      " 6   Class        60 non-null     object \n",
      "dtypes: float64(6), object(1)\n",
      "memory usage: 3.4+ KB\n"
     ]
    }
   ],
   "source": [
    "df1.info()"
   ]
  },
  {
   "cell_type": "code",
   "execution_count": 166,
   "id": "a3cdd836-4db4-4de7-9fc8-f1e2651ea1d5",
   "metadata": {},
   "outputs": [
    {
     "data": {
      "text/plain": [
       "P_incidence    float64\n",
       "P_tilt         float64\n",
       "L_angle        float64\n",
       "S_slope        float64\n",
       "P_radius       float64\n",
       "S_Degree       float64\n",
       "Class           object\n",
       "dtype: object"
      ]
     },
     "execution_count": 166,
     "metadata": {},
     "output_type": "execute_result"
    }
   ],
   "source": [
    "df1.dtypes"
   ]
  },
  {
   "cell_type": "markdown",
   "id": "23513c4d-dbc5-492f-b962-104b3a7af836",
   "metadata": {},
   "source": [
    "**Data set 3**"
   ]
  },
  {
   "cell_type": "code",
   "execution_count": 167,
   "id": "bae31904-53d8-4152-9c1b-28e8dc92e351",
   "metadata": {},
   "outputs": [
    {
     "name": "stdout",
     "output_type": "stream",
     "text": [
      "<class 'pandas.core.frame.DataFrame'>\n",
      "RangeIndex: 150 entries, 0 to 149\n",
      "Data columns (total 7 columns):\n",
      " #   Column       Non-Null Count  Dtype  \n",
      "---  ------       --------------  -----  \n",
      " 0   P_incidence  150 non-null    float64\n",
      " 1   P_tilt       150 non-null    float64\n",
      " 2   L_angle      150 non-null    float64\n",
      " 3   S_slope      150 non-null    float64\n",
      " 4   P_radius     150 non-null    float64\n",
      " 5   S_Degree     150 non-null    float64\n",
      " 6   Class        150 non-null    object \n",
      "dtypes: float64(6), object(1)\n",
      "memory usage: 8.3+ KB\n"
     ]
    }
   ],
   "source": [
    "df2.info()"
   ]
  },
  {
   "cell_type": "code",
   "execution_count": 168,
   "id": "61285ac8-42bb-444c-bc32-1d05753155f7",
   "metadata": {},
   "outputs": [
    {
     "data": {
      "text/plain": [
       "P_incidence    float64\n",
       "P_tilt         float64\n",
       "L_angle        float64\n",
       "S_slope        float64\n",
       "P_radius       float64\n",
       "S_Degree       float64\n",
       "Class           object\n",
       "dtype: object"
      ]
     },
     "execution_count": 168,
     "metadata": {},
     "output_type": "execute_result"
    }
   ],
   "source": [
    "df2.dtypes"
   ]
  },
  {
   "cell_type": "markdown",
   "id": "ff8056de-8139-468a-8a8c-5e6224cd8460",
   "metadata": {},
   "source": [
    "*From the above output we can see that there are no junk values in any of the data sets.*"
   ]
  },
  {
   "cell_type": "markdown",
   "id": "1f1f4e25-57fb-4233-b263-abe2ecf41eba",
   "metadata": {},
   "source": [
    "**E. Observe and share variation in ‘Class’ feature of all the 3 DaraFrames. [1 Mark]**"
   ]
  },
  {
   "cell_type": "markdown",
   "id": "27fa9bd8-adec-49de-8942-c5fdf3d71bb7",
   "metadata": {},
   "source": [
    "*From the above analysis we see that the 'Class' feature is object and we need to change the data type of this particular column in order to further analyse the data sets.*"
   ]
  },
  {
   "cell_type": "markdown",
   "id": "4806ace1-2375-425c-8ab7-043caf892386",
   "metadata": {},
   "source": [
    "**2. Data Preparation and Exploration: [5 Marks]**\n",
    "\n",
    "**A. Unify all the variations in ‘Class’ feature for all the 3 DataFrames. [1 Marks]**\n",
    "\n",
    "**For Example: ‘tp_s’, ‘Type_S’, ‘type_s’ should be converted to ‘type_s’**"
   ]
  },
  {
   "cell_type": "markdown",
   "id": "283b029b-5c19-403d-92b5-e9d10c46e697",
   "metadata": {},
   "source": [
    "**Data set1**"
   ]
  },
  {
   "cell_type": "code",
   "execution_count": 169,
   "id": "2a1cb688-1f1d-4221-8a07-97082d21adc0",
   "metadata": {},
   "outputs": [
    {
     "data": {
      "text/plain": [
       "Normal    73\n",
       "Nrmal     27\n",
       "Name: Class, dtype: int64"
      ]
     },
     "execution_count": 169,
     "metadata": {},
     "output_type": "execute_result"
    }
   ],
   "source": [
    "df['Class'].value_counts()"
   ]
  },
  {
   "cell_type": "code",
   "execution_count": 170,
   "id": "2d4981ce-acff-44b9-ad5f-557f8aed5226",
   "metadata": {},
   "outputs": [],
   "source": [
    "df.loc[df['Class']=='Nrmal','Class']='Normal'"
   ]
  },
  {
   "cell_type": "code",
   "execution_count": 171,
   "id": "f736f5d5-8830-4a04-a028-67eb0c760e57",
   "metadata": {},
   "outputs": [
    {
     "data": {
      "text/plain": [
       "Normal    100\n",
       "Name: Class, dtype: int64"
      ]
     },
     "execution_count": 171,
     "metadata": {},
     "output_type": "execute_result"
    }
   ],
   "source": [
    "df['Class'].value_counts()"
   ]
  },
  {
   "cell_type": "markdown",
   "id": "dd946b38-f658-41db-a1d7-bf3c518d0f62",
   "metadata": {},
   "source": [
    "**Data set 2**"
   ]
  },
  {
   "cell_type": "code",
   "execution_count": 172,
   "id": "b8325635-d455-4fc2-812a-d6f1c301342d",
   "metadata": {},
   "outputs": [
    {
     "data": {
      "text/plain": [
       "Type_H    37\n",
       "type_h    23\n",
       "Name: Class, dtype: int64"
      ]
     },
     "execution_count": 172,
     "metadata": {},
     "output_type": "execute_result"
    }
   ],
   "source": [
    "df1['Class'].value_counts()"
   ]
  },
  {
   "cell_type": "code",
   "execution_count": 173,
   "id": "9493c80e-9bac-423e-8f3e-34645525cb50",
   "metadata": {},
   "outputs": [],
   "source": [
    "df1.loc[df1['Class']=='type_h','Class']='Type_H'"
   ]
  },
  {
   "cell_type": "code",
   "execution_count": 174,
   "id": "2d50093a-ed55-40db-8c1b-c42342c8d7b9",
   "metadata": {},
   "outputs": [
    {
     "data": {
      "text/plain": [
       "Type_H    60\n",
       "Name: Class, dtype: int64"
      ]
     },
     "execution_count": 174,
     "metadata": {},
     "output_type": "execute_result"
    }
   ],
   "source": [
    "df1['Class'].value_counts()"
   ]
  },
  {
   "cell_type": "markdown",
   "id": "86d2af44-a4af-4520-ba9c-aa2ae076aec0",
   "metadata": {},
   "source": [
    "**Data set 3**"
   ]
  },
  {
   "cell_type": "code",
   "execution_count": 175,
   "id": "e2f54013-6278-48a8-86f9-09ea6c16004a",
   "metadata": {},
   "outputs": [
    {
     "data": {
      "text/plain": [
       "Type_S    133\n",
       "tp_s       17\n",
       "Name: Class, dtype: int64"
      ]
     },
     "execution_count": 175,
     "metadata": {},
     "output_type": "execute_result"
    }
   ],
   "source": [
    "df2['Class'].value_counts()"
   ]
  },
  {
   "cell_type": "code",
   "execution_count": 176,
   "id": "15fa5cad-b959-4faf-832d-a65ced5f9445",
   "metadata": {},
   "outputs": [],
   "source": [
    "df2.loc[df2['Class']=='tp_s','Class']='Type_S'"
   ]
  },
  {
   "cell_type": "code",
   "execution_count": 177,
   "id": "84828a11-6bf0-4359-8e04-ce2801db3f26",
   "metadata": {},
   "outputs": [
    {
     "data": {
      "text/plain": [
       "Type_S    150\n",
       "Name: Class, dtype: int64"
      ]
     },
     "execution_count": 177,
     "metadata": {},
     "output_type": "execute_result"
    }
   ],
   "source": [
    "df2['Class'].value_counts()"
   ]
  },
  {
   "cell_type": "markdown",
   "id": "08d11a72-80c5-4b70-9d57-d27a45393bc1",
   "metadata": {},
   "source": [
    "**B. Combine all the 3 DataFrames to form a single DataFrame [1 Marks]**\n",
    "\n",
    "**Checkpoint: Expected Output shape = (310,7)**"
   ]
  },
  {
   "cell_type": "code",
   "execution_count": 236,
   "id": "c984792c-e1c4-4988-a235-d706b3859387",
   "metadata": {},
   "outputs": [],
   "source": [
    "df_main=df.append([df1,df2])"
   ]
  },
  {
   "cell_type": "code",
   "execution_count": 237,
   "id": "5e855c2c-338e-4ecd-98f8-a61ea65e9c9c",
   "metadata": {},
   "outputs": [
    {
     "data": {
      "text/plain": [
       "(310, 7)"
      ]
     },
     "execution_count": 237,
     "metadata": {},
     "output_type": "execute_result"
    }
   ],
   "source": [
    "df_main.shape"
   ]
  },
  {
   "cell_type": "markdown",
   "id": "bddaad5d-aca7-4cb0-8354-d570e93cb708",
   "metadata": {},
   "source": [
    "*The final data frame, that is, 'df_main' has 310 rows and 7 columns*"
   ]
  },
  {
   "cell_type": "markdown",
   "id": "451b314f-29f1-4a8a-b1a6-bf03aa698d58",
   "metadata": {},
   "source": [
    "**C. Print 5 random samples of this DataFrame [1 Marks]**"
   ]
  },
  {
   "cell_type": "code",
   "execution_count": 238,
   "id": "5e0e3ce6-79da-4197-9fa5-a7f7c0ca655c",
   "metadata": {},
   "outputs": [
    {
     "data": {
      "text/html": [
       "<div>\n",
       "<style scoped>\n",
       "    .dataframe tbody tr th:only-of-type {\n",
       "        vertical-align: middle;\n",
       "    }\n",
       "\n",
       "    .dataframe tbody tr th {\n",
       "        vertical-align: top;\n",
       "    }\n",
       "\n",
       "    .dataframe thead th {\n",
       "        text-align: right;\n",
       "    }\n",
       "</style>\n",
       "<table border=\"1\" class=\"dataframe\">\n",
       "  <thead>\n",
       "    <tr style=\"text-align: right;\">\n",
       "      <th></th>\n",
       "      <th>P_incidence</th>\n",
       "      <th>P_tilt</th>\n",
       "      <th>L_angle</th>\n",
       "      <th>S_slope</th>\n",
       "      <th>P_radius</th>\n",
       "      <th>S_Degree</th>\n",
       "      <th>Class</th>\n",
       "    </tr>\n",
       "  </thead>\n",
       "  <tbody>\n",
       "    <tr>\n",
       "      <th>0</th>\n",
       "      <td>38.505273</td>\n",
       "      <td>16.964297</td>\n",
       "      <td>35.112814</td>\n",
       "      <td>21.540976</td>\n",
       "      <td>127.632875</td>\n",
       "      <td>7.986683</td>\n",
       "      <td>Normal</td>\n",
       "    </tr>\n",
       "    <tr>\n",
       "      <th>1</th>\n",
       "      <td>54.920858</td>\n",
       "      <td>18.968430</td>\n",
       "      <td>51.601455</td>\n",
       "      <td>35.952428</td>\n",
       "      <td>125.846646</td>\n",
       "      <td>2.001642</td>\n",
       "      <td>Normal</td>\n",
       "    </tr>\n",
       "    <tr>\n",
       "      <th>2</th>\n",
       "      <td>44.362490</td>\n",
       "      <td>8.945435</td>\n",
       "      <td>46.902096</td>\n",
       "      <td>35.417055</td>\n",
       "      <td>129.220682</td>\n",
       "      <td>4.994195</td>\n",
       "      <td>Normal</td>\n",
       "    </tr>\n",
       "    <tr>\n",
       "      <th>3</th>\n",
       "      <td>48.318931</td>\n",
       "      <td>17.452121</td>\n",
       "      <td>48.000000</td>\n",
       "      <td>30.866809</td>\n",
       "      <td>128.980308</td>\n",
       "      <td>-0.910941</td>\n",
       "      <td>Normal</td>\n",
       "    </tr>\n",
       "    <tr>\n",
       "      <th>4</th>\n",
       "      <td>45.701789</td>\n",
       "      <td>10.659859</td>\n",
       "      <td>42.577846</td>\n",
       "      <td>35.041929</td>\n",
       "      <td>130.178314</td>\n",
       "      <td>-3.388910</td>\n",
       "      <td>Normal</td>\n",
       "    </tr>\n",
       "  </tbody>\n",
       "</table>\n",
       "</div>"
      ],
      "text/plain": [
       "   P_incidence     P_tilt    L_angle    S_slope    P_radius  S_Degree   Class\n",
       "0    38.505273  16.964297  35.112814  21.540976  127.632875  7.986683  Normal\n",
       "1    54.920858  18.968430  51.601455  35.952428  125.846646  2.001642  Normal\n",
       "2    44.362490   8.945435  46.902096  35.417055  129.220682  4.994195  Normal\n",
       "3    48.318931  17.452121  48.000000  30.866809  128.980308 -0.910941  Normal\n",
       "4    45.701789  10.659859  42.577846  35.041929  130.178314 -3.388910  Normal"
      ]
     },
     "execution_count": 238,
     "metadata": {},
     "output_type": "execute_result"
    }
   ],
   "source": [
    "df_main.head()"
   ]
  },
  {
   "cell_type": "code",
   "execution_count": 239,
   "id": "c47fa6f8-3bd7-47ea-baed-ae00ec848cee",
   "metadata": {},
   "outputs": [
    {
     "data": {
      "text/html": [
       "<div>\n",
       "<style scoped>\n",
       "    .dataframe tbody tr th:only-of-type {\n",
       "        vertical-align: middle;\n",
       "    }\n",
       "\n",
       "    .dataframe tbody tr th {\n",
       "        vertical-align: top;\n",
       "    }\n",
       "\n",
       "    .dataframe thead th {\n",
       "        text-align: right;\n",
       "    }\n",
       "</style>\n",
       "<table border=\"1\" class=\"dataframe\">\n",
       "  <thead>\n",
       "    <tr style=\"text-align: right;\">\n",
       "      <th></th>\n",
       "      <th>P_incidence</th>\n",
       "      <th>P_tilt</th>\n",
       "      <th>L_angle</th>\n",
       "      <th>S_slope</th>\n",
       "      <th>P_radius</th>\n",
       "      <th>S_Degree</th>\n",
       "      <th>Class</th>\n",
       "    </tr>\n",
       "  </thead>\n",
       "  <tbody>\n",
       "    <tr>\n",
       "      <th>82</th>\n",
       "      <td>34.756738</td>\n",
       "      <td>2.631740</td>\n",
       "      <td>29.504381</td>\n",
       "      <td>32.124998</td>\n",
       "      <td>127.139849</td>\n",
       "      <td>-0.460894</td>\n",
       "      <td>Normal</td>\n",
       "    </tr>\n",
       "    <tr>\n",
       "      <th>30</th>\n",
       "      <td>41.646916</td>\n",
       "      <td>8.835549</td>\n",
       "      <td>36.031975</td>\n",
       "      <td>32.811367</td>\n",
       "      <td>116.555168</td>\n",
       "      <td>-6.054538</td>\n",
       "      <td>Normal</td>\n",
       "    </tr>\n",
       "    <tr>\n",
       "      <th>15</th>\n",
       "      <td>59.726140</td>\n",
       "      <td>7.724873</td>\n",
       "      <td>55.343485</td>\n",
       "      <td>52.001268</td>\n",
       "      <td>125.174221</td>\n",
       "      <td>3.235159</td>\n",
       "      <td>Normal</td>\n",
       "    </tr>\n",
       "    <tr>\n",
       "      <th>32</th>\n",
       "      <td>85.352315</td>\n",
       "      <td>15.844910</td>\n",
       "      <td>71.668660</td>\n",
       "      <td>69.507405</td>\n",
       "      <td>124.419787</td>\n",
       "      <td>76.020603</td>\n",
       "      <td>Type_S</td>\n",
       "    </tr>\n",
       "    <tr>\n",
       "      <th>69</th>\n",
       "      <td>77.236898</td>\n",
       "      <td>16.737622</td>\n",
       "      <td>49.775534</td>\n",
       "      <td>60.499275</td>\n",
       "      <td>110.690377</td>\n",
       "      <td>39.787154</td>\n",
       "      <td>Type_S</td>\n",
       "    </tr>\n",
       "  </tbody>\n",
       "</table>\n",
       "</div>"
      ],
      "text/plain": [
       "    P_incidence     P_tilt    L_angle    S_slope    P_radius   S_Degree  \\\n",
       "82    34.756738   2.631740  29.504381  32.124998  127.139849  -0.460894   \n",
       "30    41.646916   8.835549  36.031975  32.811367  116.555168  -6.054538   \n",
       "15    59.726140   7.724873  55.343485  52.001268  125.174221   3.235159   \n",
       "32    85.352315  15.844910  71.668660  69.507405  124.419787  76.020603   \n",
       "69    77.236898  16.737622  49.775534  60.499275  110.690377  39.787154   \n",
       "\n",
       "     Class  \n",
       "82  Normal  \n",
       "30  Normal  \n",
       "15  Normal  \n",
       "32  Type_S  \n",
       "69  Type_S  "
      ]
     },
     "execution_count": 239,
     "metadata": {},
     "output_type": "execute_result"
    }
   ],
   "source": [
    "df_main.sample(n=5)"
   ]
  },
  {
   "cell_type": "markdown",
   "id": "ede9aae2-5139-4cf9-8f01-3b9589e90554",
   "metadata": {},
   "source": [
    "**D. Print Feature-wise percentage of Null values. [1 Mark]**"
   ]
  },
  {
   "cell_type": "code",
   "execution_count": 240,
   "id": "aae56638-b6ae-4ec2-8d79-1bd1c3fabe30",
   "metadata": {},
   "outputs": [
    {
     "data": {
      "text/plain": [
       "P_incidence    0\n",
       "P_tilt         0\n",
       "L_angle        0\n",
       "S_slope        0\n",
       "P_radius       0\n",
       "S_Degree       0\n",
       "Class          0\n",
       "dtype: int64"
      ]
     },
     "execution_count": 240,
     "metadata": {},
     "output_type": "execute_result"
    }
   ],
   "source": [
    "#Checking the Null values first and then if neccessary we will calculate the percentage \n",
    "df_main.isnull().sum()\n",
    "\n",
    "#percent= df_main.isnull().sum() * 100 / len(df_main))\n",
    "#print(round(percent,2))"
   ]
  },
  {
   "cell_type": "markdown",
   "id": "aff0c804-faae-4889-a68d-c0ff9cd7cec8",
   "metadata": {},
   "source": [
    "*We see that there are no missing values in the Dataframe*"
   ]
  },
  {
   "cell_type": "markdown",
   "id": "c367106a-1c72-41f6-9e3d-9b1779288b2c",
   "metadata": {},
   "source": [
    "**E. Check 5-point summary of the new DataFrame. [1 Mark]**"
   ]
  },
  {
   "cell_type": "markdown",
   "id": "ef227d04-ee45-49bb-9eb0-bc4463cbba1e",
   "metadata": {},
   "source": [
    "**5-point summary of the new DataFrame**\n",
    "\n",
    "*Median: The middle value in the sample, also called the 50th percentile or the 2nd quartile.\n",
    "\n",
    "*1st Quartile: The 25th percentile.*\n",
    "\n",
    "*3rd Quartile: The 75th percentile.*\n",
    "\n",
    "*Minimum: The smallest observation in the sample.*\n",
    "\n",
    "*Maximum: The largest observation in the sample.*"
   ]
  },
  {
   "cell_type": "code",
   "execution_count": 241,
   "id": "2d59ccb9-0dde-40fa-9abf-5ed8d3b48e2c",
   "metadata": {},
   "outputs": [
    {
     "data": {
      "text/html": [
       "<div>\n",
       "<style scoped>\n",
       "    .dataframe tbody tr th:only-of-type {\n",
       "        vertical-align: middle;\n",
       "    }\n",
       "\n",
       "    .dataframe tbody tr th {\n",
       "        vertical-align: top;\n",
       "    }\n",
       "\n",
       "    .dataframe thead th {\n",
       "        text-align: right;\n",
       "    }\n",
       "</style>\n",
       "<table border=\"1\" class=\"dataframe\">\n",
       "  <thead>\n",
       "    <tr style=\"text-align: right;\">\n",
       "      <th></th>\n",
       "      <th>P_incidence</th>\n",
       "      <th>P_tilt</th>\n",
       "      <th>L_angle</th>\n",
       "      <th>S_slope</th>\n",
       "      <th>P_radius</th>\n",
       "      <th>S_Degree</th>\n",
       "    </tr>\n",
       "  </thead>\n",
       "  <tbody>\n",
       "    <tr>\n",
       "      <th>count</th>\n",
       "      <td>310.000000</td>\n",
       "      <td>310.000000</td>\n",
       "      <td>310.000000</td>\n",
       "      <td>310.000000</td>\n",
       "      <td>310.000000</td>\n",
       "      <td>310.000000</td>\n",
       "    </tr>\n",
       "    <tr>\n",
       "      <th>mean</th>\n",
       "      <td>60.496653</td>\n",
       "      <td>17.542822</td>\n",
       "      <td>51.930930</td>\n",
       "      <td>42.953831</td>\n",
       "      <td>117.920655</td>\n",
       "      <td>26.296694</td>\n",
       "    </tr>\n",
       "    <tr>\n",
       "      <th>std</th>\n",
       "      <td>17.236520</td>\n",
       "      <td>10.008330</td>\n",
       "      <td>18.554064</td>\n",
       "      <td>13.423102</td>\n",
       "      <td>13.317377</td>\n",
       "      <td>37.559027</td>\n",
       "    </tr>\n",
       "    <tr>\n",
       "      <th>min</th>\n",
       "      <td>26.147921</td>\n",
       "      <td>-6.554948</td>\n",
       "      <td>14.000000</td>\n",
       "      <td>13.366931</td>\n",
       "      <td>70.082575</td>\n",
       "      <td>-11.058179</td>\n",
       "    </tr>\n",
       "    <tr>\n",
       "      <th>25%</th>\n",
       "      <td>46.430294</td>\n",
       "      <td>10.667069</td>\n",
       "      <td>37.000000</td>\n",
       "      <td>33.347122</td>\n",
       "      <td>110.709196</td>\n",
       "      <td>1.603727</td>\n",
       "    </tr>\n",
       "    <tr>\n",
       "      <th>50%</th>\n",
       "      <td>58.691038</td>\n",
       "      <td>16.357689</td>\n",
       "      <td>49.562398</td>\n",
       "      <td>42.404912</td>\n",
       "      <td>118.268178</td>\n",
       "      <td>11.767934</td>\n",
       "    </tr>\n",
       "    <tr>\n",
       "      <th>75%</th>\n",
       "      <td>72.877696</td>\n",
       "      <td>22.120395</td>\n",
       "      <td>63.000000</td>\n",
       "      <td>52.695888</td>\n",
       "      <td>125.467674</td>\n",
       "      <td>41.287352</td>\n",
       "    </tr>\n",
       "    <tr>\n",
       "      <th>max</th>\n",
       "      <td>129.834041</td>\n",
       "      <td>49.431864</td>\n",
       "      <td>125.742385</td>\n",
       "      <td>121.429566</td>\n",
       "      <td>163.071041</td>\n",
       "      <td>418.543082</td>\n",
       "    </tr>\n",
       "  </tbody>\n",
       "</table>\n",
       "</div>"
      ],
      "text/plain": [
       "       P_incidence      P_tilt     L_angle     S_slope    P_radius    S_Degree\n",
       "count   310.000000  310.000000  310.000000  310.000000  310.000000  310.000000\n",
       "mean     60.496653   17.542822   51.930930   42.953831  117.920655   26.296694\n",
       "std      17.236520   10.008330   18.554064   13.423102   13.317377   37.559027\n",
       "min      26.147921   -6.554948   14.000000   13.366931   70.082575  -11.058179\n",
       "25%      46.430294   10.667069   37.000000   33.347122  110.709196    1.603727\n",
       "50%      58.691038   16.357689   49.562398   42.404912  118.268178   11.767934\n",
       "75%      72.877696   22.120395   63.000000   52.695888  125.467674   41.287352\n",
       "max     129.834041   49.431864  125.742385  121.429566  163.071041  418.543082"
      ]
     },
     "execution_count": 241,
     "metadata": {},
     "output_type": "execute_result"
    }
   ],
   "source": [
    "df_main.describe()"
   ]
  },
  {
   "cell_type": "markdown",
   "id": "2ce509f2-1a7a-43a9-ae82-1c0a4ac97765",
   "metadata": {},
   "source": [
    "**3. Data Analysis: [10 Marks]**\n",
    "\n",
    "**A. Visualize a heatmap to understand correlation between all features [2 Marks]**"
   ]
  },
  {
   "cell_type": "code",
   "execution_count": 242,
   "id": "bba18d29-fc11-4b46-9c2c-b9607946fd87",
   "metadata": {},
   "outputs": [
    {
     "data": {
      "text/plain": [
       "<AxesSubplot:>"
      ]
     },
     "execution_count": 242,
     "metadata": {},
     "output_type": "execute_result"
    },
    {
     "data": {
      "image/png": "[encoded data removed]",
      "text/plain": [
       "<Figure size 432x288 with 2 Axes>"
      ]
     },
     "metadata": {
      "needs_background": "light"
     },
     "output_type": "display_data"
    }
   ],
   "source": [
    "sns.heatmap(df_main.corr(),annot=True)"
   ]
  },
  {
   "cell_type": "markdown",
   "id": "f002f1d4-c26b-4ac6-b49a-80b4d6efce7e",
   "metadata": {},
   "source": [
    "**B. Share insights on correlation. [2 Marks]**\n",
    "\n",
    "*A. Features having stronger correlation with correlation value.*"
   ]
  },
  {
   "cell_type": "markdown",
   "id": "325928f5-edc8-42d0-976d-bee74616a1fc",
   "metadata": {},
   "source": [
    "**S_degree and P_incidence have stronger correlation which is .64.**"
   ]
  },
  {
   "cell_type": "markdown",
   "id": "14b5648a-9b52-4df3-bd59-6bde2c45612b",
   "metadata": {},
   "source": [
    "*B. Features having weaker correlation with correlation value.*"
   ]
  },
  {
   "cell_type": "markdown",
   "id": "effd6dc4-75ce-44b1-b900-b1e4fdee3489",
   "metadata": {},
   "source": [
    "**S_degree and P_radius have negative correlation (-0.026), and hence, have a weaker corellation.**"
   ]
  },
  {
   "cell_type": "markdown",
   "id": "937ad0ee-44ad-49b8-9e12-3dc7dd7a44a2",
   "metadata": {},
   "source": [
    "**C. Visualize a pairplot with 3 classes distinguished by colors and share insights. [2 Marks]**"
   ]
  },
  {
   "cell_type": "code",
   "execution_count": 243,
   "id": "f2426df1-9135-4b6a-8367-7c2187f3ea93",
   "metadata": {},
   "outputs": [
    {
     "data": {
      "text/plain": [
       "Index(['P_incidence', 'P_tilt', 'L_angle', 'S_slope', 'P_radius', 'S_Degree',\n",
       "       'Class'],\n",
       "      dtype='object')"
      ]
     },
     "execution_count": 243,
     "metadata": {},
     "output_type": "execute_result"
    }
   ],
   "source": [
    "df_main.columns"
   ]
  },
  {
   "cell_type": "code",
   "execution_count": 244,
   "id": "dee2aeb8-a099-4cfb-bb31-81d03e52dde7",
   "metadata": {},
   "outputs": [],
   "source": [
    "import seaborn as sns\n",
    "%matplotlib inline"
   ]
  },
  {
   "cell_type": "code",
   "execution_count": 245,
   "id": "3302a1eb-8347-408c-a23a-9667a7811ec8",
   "metadata": {},
   "outputs": [
    {
     "name": "stdout",
     "output_type": "stream",
     "text": [
      "<class 'pandas.core.frame.DataFrame'>\n",
      "Int64Index: 310 entries, 0 to 149\n",
      "Data columns (total 7 columns):\n",
      " #   Column       Non-Null Count  Dtype  \n",
      "---  ------       --------------  -----  \n",
      " 0   P_incidence  310 non-null    float64\n",
      " 1   P_tilt       310 non-null    float64\n",
      " 2   L_angle      310 non-null    float64\n",
      " 3   S_slope      310 non-null    float64\n",
      " 4   P_radius     310 non-null    float64\n",
      " 5   S_Degree     310 non-null    float64\n",
      " 6   Class        310 non-null    object \n",
      "dtypes: float64(6), object(1)\n",
      "memory usage: 19.4+ KB\n"
     ]
    }
   ],
   "source": [
    "df_main.info()"
   ]
  },
  {
   "cell_type": "code",
   "execution_count": 246,
   "id": "b0dd3213-86b1-4c87-804d-ffc2b578b38a",
   "metadata": {},
   "outputs": [
    {
     "data": {
      "text/plain": [
       "P_incidence    0\n",
       "P_tilt         0\n",
       "L_angle        0\n",
       "S_slope        0\n",
       "P_radius       0\n",
       "S_Degree       0\n",
       "Class          0\n",
       "dtype: int64"
      ]
     },
     "execution_count": 246,
     "metadata": {},
     "output_type": "execute_result"
    }
   ],
   "source": [
    "df_main.isnull().sum()"
   ]
  },
  {
   "cell_type": "code",
   "execution_count": 247,
   "id": "ad3d0849-6725-449e-a586-cfa22123359f",
   "metadata": {},
   "outputs": [
    {
     "data": {
      "text/plain": [
       "Type_S    150\n",
       "Normal    100\n",
       "Type_H     60\n",
       "Name: Class, dtype: int64"
      ]
     },
     "execution_count": 247,
     "metadata": {},
     "output_type": "execute_result"
    }
   ],
   "source": [
    "df_main['Class'].value_counts()"
   ]
  },
  {
   "cell_type": "code",
   "execution_count": 252,
   "id": "b3116206-30e2-45e3-828c-2b65be0d8009",
   "metadata": {},
   "outputs": [],
   "source": [
    "df_main['Class'] = df_main['Class'].astype('category')"
   ]
  },
  {
   "cell_type": "code",
   "execution_count": 253,
   "id": "9034e79a-0538-478c-9213-549d520e1fe5",
   "metadata": {},
   "outputs": [
    {
     "data": {
      "text/plain": [
       "3"
      ]
     },
     "execution_count": 253,
     "metadata": {},
     "output_type": "execute_result"
    }
   ],
   "source": [
    "df_main['Class'].nunique()"
   ]
  },
  {
   "cell_type": "code",
   "execution_count": 254,
   "id": "7b6ed28e-cd0e-4b8f-8878-d6f59fadf6ca",
   "metadata": {},
   "outputs": [
    {
     "name": "stdout",
     "output_type": "stream",
     "text": [
      "<class 'pandas.core.frame.DataFrame'>\n",
      "Int64Index: 310 entries, 0 to 149\n",
      "Data columns (total 7 columns):\n",
      " #   Column       Non-Null Count  Dtype   \n",
      "---  ------       --------------  -----   \n",
      " 0   P_incidence  310 non-null    float64 \n",
      " 1   P_tilt       310 non-null    float64 \n",
      " 2   L_angle      310 non-null    float64 \n",
      " 3   S_slope      310 non-null    float64 \n",
      " 4   P_radius     310 non-null    float64 \n",
      " 5   S_Degree     310 non-null    float64 \n",
      " 6   Class        310 non-null    category\n",
      "dtypes: category(1), float64(6)\n",
      "memory usage: 17.4 KB\n"
     ]
    }
   ],
   "source": [
    "df_main.info()"
   ]
  },
  {
   "cell_type": "code",
   "execution_count": 255,
   "id": "68aae65a-9e61-408d-8528-ab142155e698",
   "metadata": {},
   "outputs": [
    {
     "data": {
      "image/png": "[encoded data removed]",
      "text/plain": [
       "<Figure size 1224x504 with 2 Axes>"
      ]
     },
     "metadata": {
      "needs_background": "light"
     },
     "output_type": "display_data"
    }
   ],
   "source": [
    "f,axes=plt.subplots(1,2,figsize=(17,7))\n",
    "df_main['Class'].value_counts().plot.pie(autopct='%1.1f%%',ax=axes[0])\n",
    "sns.countplot('Class',data=df_main,ax=axes[1])\n",
    "axes[0].set_title('Response Variable Pie Chart')\n",
    "axes[1].set_title('Response Variable Bar Graph')\n",
    "plt.show()"
   ]
  },
  {
   "cell_type": "code",
   "execution_count": 313,
   "id": "44c12a74-74bc-49d6-a45c-61d8ed8ebe73",
   "metadata": {},
   "outputs": [],
   "source": [
    "#sns.pairplot(df_main, hue= 'Class')\n",
    "#sns.pairplot(data=df_main[['P_incidence', 'P_tilt', 'L_angle', 'S_slope', 'P_radius', 'S_Degree']], hue = \"Class\")\n",
    "#not working for some reason"
   ]
  },
  {
   "cell_type": "code",
   "execution_count": null,
   "id": "d3b38217-8f9e-40da-b5af-45d274ea4c9f",
   "metadata": {},
   "outputs": [],
   "source": []
  },
  {
   "cell_type": "markdown",
   "id": "1208be79-2b8c-4bf6-bcf7-312113d1dbd0",
   "metadata": {},
   "source": [
    "**D. Visualize a jointplot for ‘P_incidence’ and ‘S_slope’ and share insights. [2 Marks]**"
   ]
  },
  {
   "cell_type": "code",
   "execution_count": 142,
   "id": "95ee6622-a98c-4757-80fc-bfd2522802ec",
   "metadata": {},
   "outputs": [
    {
     "data": {
      "text/plain": [
       "Index(['P_incidence', 'P_tilt', 'L_angle', 'S_slope', 'P_radius', 'S_Degree',\n",
       "       'Class'],\n",
       "      dtype='object')"
      ]
     },
     "execution_count": 142,
     "metadata": {},
     "output_type": "execute_result"
    }
   ],
   "source": [
    "df_main.columns"
   ]
  },
  {
   "cell_type": "code",
   "execution_count": 200,
   "id": "47b8ecb7-5cc3-462e-b0ca-6eb5dd5ee001",
   "metadata": {},
   "outputs": [
    {
     "data": {
      "text/html": [
       "<div>\n",
       "<style scoped>\n",
       "    .dataframe tbody tr th:only-of-type {\n",
       "        vertical-align: middle;\n",
       "    }\n",
       "\n",
       "    .dataframe tbody tr th {\n",
       "        vertical-align: top;\n",
       "    }\n",
       "\n",
       "    .dataframe thead th {\n",
       "        text-align: right;\n",
       "    }\n",
       "</style>\n",
       "<table border=\"1\" class=\"dataframe\">\n",
       "  <thead>\n",
       "    <tr style=\"text-align: right;\">\n",
       "      <th></th>\n",
       "      <th>P_incidence</th>\n",
       "      <th>S_slope</th>\n",
       "    </tr>\n",
       "  </thead>\n",
       "  <tbody>\n",
       "    <tr>\n",
       "      <th>0</th>\n",
       "      <td>38.505273</td>\n",
       "      <td>21.540976</td>\n",
       "    </tr>\n",
       "    <tr>\n",
       "      <th>1</th>\n",
       "      <td>54.920858</td>\n",
       "      <td>35.952428</td>\n",
       "    </tr>\n",
       "    <tr>\n",
       "      <th>2</th>\n",
       "      <td>44.362490</td>\n",
       "      <td>35.417055</td>\n",
       "    </tr>\n",
       "    <tr>\n",
       "      <th>3</th>\n",
       "      <td>48.318931</td>\n",
       "      <td>30.866809</td>\n",
       "    </tr>\n",
       "    <tr>\n",
       "      <th>4</th>\n",
       "      <td>45.701789</td>\n",
       "      <td>35.041929</td>\n",
       "    </tr>\n",
       "    <tr>\n",
       "      <th>...</th>\n",
       "      <td>...</td>\n",
       "      <td>...</td>\n",
       "    </tr>\n",
       "    <tr>\n",
       "      <th>145</th>\n",
       "      <td>80.111572</td>\n",
       "      <td>46.169139</td>\n",
       "    </tr>\n",
       "    <tr>\n",
       "      <th>146</th>\n",
       "      <td>95.480229</td>\n",
       "      <td>48.930176</td>\n",
       "    </tr>\n",
       "    <tr>\n",
       "      <th>147</th>\n",
       "      <td>74.094731</td>\n",
       "      <td>55.271004</td>\n",
       "    </tr>\n",
       "    <tr>\n",
       "      <th>148</th>\n",
       "      <td>87.679087</td>\n",
       "      <td>67.313473</td>\n",
       "    </tr>\n",
       "    <tr>\n",
       "      <th>149</th>\n",
       "      <td>48.259920</td>\n",
       "      <td>31.842457</td>\n",
       "    </tr>\n",
       "  </tbody>\n",
       "</table>\n",
       "<p>310 rows × 2 columns</p>\n",
       "</div>"
      ],
      "text/plain": [
       "     P_incidence    S_slope\n",
       "0      38.505273  21.540976\n",
       "1      54.920858  35.952428\n",
       "2      44.362490  35.417055\n",
       "3      48.318931  30.866809\n",
       "4      45.701789  35.041929\n",
       "..           ...        ...\n",
       "145    80.111572  46.169139\n",
       "146    95.480229  48.930176\n",
       "147    74.094731  55.271004\n",
       "148    87.679087  67.313473\n",
       "149    48.259920  31.842457\n",
       "\n",
       "[310 rows x 2 columns]"
      ]
     },
     "execution_count": 200,
     "metadata": {},
     "output_type": "execute_result"
    }
   ],
   "source": [
    "df_main[['P_incidence', 'S_slope']]"
   ]
  },
  {
   "cell_type": "code",
   "execution_count": 202,
   "id": "40dc86b2-ace6-4e9d-8257-82b4b2bec9a1",
   "metadata": {},
   "outputs": [
    {
     "data": {
      "image/png": "[encoded data removed]",
      "text/plain": [
       "<Figure size 432x432 with 3 Axes>"
      ]
     },
     "metadata": {
      "needs_background": "light"
     },
     "output_type": "display_data"
    }
   ],
   "source": [
    "sns.jointplot(data=df_main[['P_incidence', 'S_slope']],);"
   ]
  },
  {
   "cell_type": "markdown",
   "id": "e8b6c7c6-110a-45f2-9c1e-613825fbdd3d",
   "metadata": {},
   "source": [
    "*We see that P_incidence value is higher than the S_slope. we also see that the S_slope is left-skew while the P_incidence is not that much.*"
   ]
  },
  {
   "cell_type": "markdown",
   "id": "f77ccc75-0bab-497a-9b5d-cff630563d20",
   "metadata": {},
   "source": [
    "**E. Visualize a boxplot to check distribution of the features and share insights. [2 Marks]**"
   ]
  },
  {
   "cell_type": "code",
   "execution_count": 209,
   "id": "e8ef3f47-e737-43cd-9fb1-8e24bcf502d1",
   "metadata": {},
   "outputs": [
    {
     "data": {
      "text/plain": [
       "<AxesSubplot:>"
      ]
     },
     "execution_count": 209,
     "metadata": {},
     "output_type": "execute_result"
    },
    {
     "data": {
      "image/png": "[encoded data removed]",
      "text/plain": [
       "<Figure size 1080x720 with 1 Axes>"
      ]
     },
     "metadata": {
      "needs_background": "light"
     },
     "output_type": "display_data"
    }
   ],
   "source": [
    "plt.figure(figsize=(15,10))\n",
    "sns.boxplot(data=df_main)"
   ]
  },
  {
   "cell_type": "markdown",
   "id": "08797ae8-5816-4fc5-a8db-d3cd139b6704",
   "metadata": {},
   "source": [
    "**P_incidence:**\n",
    "\n",
    "*Mean and Median are nearly equal . Few outliers are there on the upper end.\n",
    "\n",
    "Distribution might be normal. we have 75 % of values are less than 72 but maxiumum value is 129.*\n",
    "\n",
    "\n",
    "**P_tilt:**\n",
    "\n",
    "*Mean and median are nearly equal.\n",
    "\n",
    "Distribution might be normal. Outlier are present on both the ends.\n",
    "\n",
    "It contains negative values.\n",
    "\n",
    "75 % of values are less than 22 but maximum value is 49 so there might be little right skewness.*\n",
    "\n",
    "\n",
    "**L_angle:**\n",
    "\n",
    "*Mean and Median are nearly equal. There is no deviation.\n",
    "\n",
    "Distribution might be normal. Few outliers on the upper end.\n",
    "\n",
    "There might be few outliers because of the maximum value.*\n",
    "\n",
    "\n",
    "**S_slope:**\n",
    "\n",
    "*Mean and Median are nearly equal. Few outliers on the upper end.\n",
    "\n",
    "Towards the end there is little devation. 75% of values are lesser than 52 but maximum value is 121.*\n",
    "\n",
    "\n",
    "**P_radius:**\n",
    "\n",
    "*Distribution might be normal. Outliers on both the ends.\n",
    "\n",
    "There is no much Deviation.*\n",
    "\n",
    "\n",
    "**S_Degree:**\n",
    "\n",
    "*Mean is greater than Median so there might be right skewness in the data . Few outliers on the upper end.\n",
    "\n",
    "We can see 75% of values are less than 41 but maximum value is 418 so there is obvious outliers in the data.*"
   ]
  },
  {
   "cell_type": "markdown",
   "id": "dbc1014b-7238-4067-9467-204dad8cb5ad",
   "metadata": {},
   "source": [
    "**4. Model Building: [6 Marks]**\n",
    "\n",
    "**A. Split data into X and Y. [1 Marks]**"
   ]
  },
  {
   "cell_type": "code",
   "execution_count": 211,
   "id": "a203b956-2029-4bc7-ae36-cbe7026006a6",
   "metadata": {},
   "outputs": [],
   "source": [
    "X=df_main.drop(columns='Class')\n",
    "y=df_main['Class']"
   ]
  },
  {
   "cell_type": "code",
   "execution_count": 212,
   "id": "990ac029-5f12-4104-a748-de5116c42f51",
   "metadata": {},
   "outputs": [
    {
     "data": {
      "text/html": [
       "<div>\n",
       "<style scoped>\n",
       "    .dataframe tbody tr th:only-of-type {\n",
       "        vertical-align: middle;\n",
       "    }\n",
       "\n",
       "    .dataframe tbody tr th {\n",
       "        vertical-align: top;\n",
       "    }\n",
       "\n",
       "    .dataframe thead th {\n",
       "        text-align: right;\n",
       "    }\n",
       "</style>\n",
       "<table border=\"1\" class=\"dataframe\">\n",
       "  <thead>\n",
       "    <tr style=\"text-align: right;\">\n",
       "      <th></th>\n",
       "      <th>P_incidence</th>\n",
       "      <th>P_tilt</th>\n",
       "      <th>L_angle</th>\n",
       "      <th>S_slope</th>\n",
       "      <th>P_radius</th>\n",
       "      <th>S_Degree</th>\n",
       "    </tr>\n",
       "  </thead>\n",
       "  <tbody>\n",
       "    <tr>\n",
       "      <th>count</th>\n",
       "      <td>310.000000</td>\n",
       "      <td>310.000000</td>\n",
       "      <td>310.000000</td>\n",
       "      <td>310.000000</td>\n",
       "      <td>310.000000</td>\n",
       "      <td>310.000000</td>\n",
       "    </tr>\n",
       "    <tr>\n",
       "      <th>mean</th>\n",
       "      <td>60.496653</td>\n",
       "      <td>17.542822</td>\n",
       "      <td>51.930930</td>\n",
       "      <td>42.953831</td>\n",
       "      <td>117.920655</td>\n",
       "      <td>26.296694</td>\n",
       "    </tr>\n",
       "    <tr>\n",
       "      <th>std</th>\n",
       "      <td>17.236520</td>\n",
       "      <td>10.008330</td>\n",
       "      <td>18.554064</td>\n",
       "      <td>13.423102</td>\n",
       "      <td>13.317377</td>\n",
       "      <td>37.559027</td>\n",
       "    </tr>\n",
       "    <tr>\n",
       "      <th>min</th>\n",
       "      <td>26.147921</td>\n",
       "      <td>-6.554948</td>\n",
       "      <td>14.000000</td>\n",
       "      <td>13.366931</td>\n",
       "      <td>70.082575</td>\n",
       "      <td>-11.058179</td>\n",
       "    </tr>\n",
       "    <tr>\n",
       "      <th>25%</th>\n",
       "      <td>46.430294</td>\n",
       "      <td>10.667069</td>\n",
       "      <td>37.000000</td>\n",
       "      <td>33.347122</td>\n",
       "      <td>110.709196</td>\n",
       "      <td>1.603727</td>\n",
       "    </tr>\n",
       "    <tr>\n",
       "      <th>50%</th>\n",
       "      <td>58.691038</td>\n",
       "      <td>16.357689</td>\n",
       "      <td>49.562398</td>\n",
       "      <td>42.404912</td>\n",
       "      <td>118.268178</td>\n",
       "      <td>11.767934</td>\n",
       "    </tr>\n",
       "    <tr>\n",
       "      <th>75%</th>\n",
       "      <td>72.877696</td>\n",
       "      <td>22.120395</td>\n",
       "      <td>63.000000</td>\n",
       "      <td>52.695888</td>\n",
       "      <td>125.467674</td>\n",
       "      <td>41.287352</td>\n",
       "    </tr>\n",
       "    <tr>\n",
       "      <th>max</th>\n",
       "      <td>129.834041</td>\n",
       "      <td>49.431864</td>\n",
       "      <td>125.742385</td>\n",
       "      <td>121.429566</td>\n",
       "      <td>163.071041</td>\n",
       "      <td>418.543082</td>\n",
       "    </tr>\n",
       "  </tbody>\n",
       "</table>\n",
       "</div>"
      ],
      "text/plain": [
       "       P_incidence      P_tilt     L_angle     S_slope    P_radius    S_Degree\n",
       "count   310.000000  310.000000  310.000000  310.000000  310.000000  310.000000\n",
       "mean     60.496653   17.542822   51.930930   42.953831  117.920655   26.296694\n",
       "std      17.236520   10.008330   18.554064   13.423102   13.317377   37.559027\n",
       "min      26.147921   -6.554948   14.000000   13.366931   70.082575  -11.058179\n",
       "25%      46.430294   10.667069   37.000000   33.347122  110.709196    1.603727\n",
       "50%      58.691038   16.357689   49.562398   42.404912  118.268178   11.767934\n",
       "75%      72.877696   22.120395   63.000000   52.695888  125.467674   41.287352\n",
       "max     129.834041   49.431864  125.742385  121.429566  163.071041  418.543082"
      ]
     },
     "execution_count": 212,
     "metadata": {},
     "output_type": "execute_result"
    }
   ],
   "source": [
    "X.describe()"
   ]
  },
  {
   "cell_type": "code",
   "execution_count": 213,
   "id": "a2bccd63-1a28-420a-b7ef-4fa67b486c00",
   "metadata": {},
   "outputs": [],
   "source": [
    "X_Scaled=X.apply(zscore)"
   ]
  },
  {
   "cell_type": "code",
   "execution_count": 214,
   "id": "6659e037-634f-4751-b688-5a60f958287c",
   "metadata": {},
   "outputs": [
    {
     "data": {
      "text/html": [
       "<div>\n",
       "<style scoped>\n",
       "    .dataframe tbody tr th:only-of-type {\n",
       "        vertical-align: middle;\n",
       "    }\n",
       "\n",
       "    .dataframe tbody tr th {\n",
       "        vertical-align: top;\n",
       "    }\n",
       "\n",
       "    .dataframe thead th {\n",
       "        text-align: right;\n",
       "    }\n",
       "</style>\n",
       "<table border=\"1\" class=\"dataframe\">\n",
       "  <thead>\n",
       "    <tr style=\"text-align: right;\">\n",
       "      <th></th>\n",
       "      <th>count</th>\n",
       "      <th>mean</th>\n",
       "      <th>std</th>\n",
       "      <th>min</th>\n",
       "      <th>25%</th>\n",
       "      <th>50%</th>\n",
       "      <th>75%</th>\n",
       "      <th>max</th>\n",
       "    </tr>\n",
       "  </thead>\n",
       "  <tbody>\n",
       "    <tr>\n",
       "      <th>P_incidence</th>\n",
       "      <td>310.0</td>\n",
       "      <td>1.042177e-16</td>\n",
       "      <td>1.001617</td>\n",
       "      <td>-1.996010</td>\n",
       "      <td>-0.817398</td>\n",
       "      <td>-0.104925</td>\n",
       "      <td>0.719464</td>\n",
       "      <td>4.029206</td>\n",
       "    </tr>\n",
       "    <tr>\n",
       "      <th>P_tilt</th>\n",
       "      <td>310.0</td>\n",
       "      <td>2.096889e-16</td>\n",
       "      <td>1.001617</td>\n",
       "      <td>-2.411664</td>\n",
       "      <td>-0.688114</td>\n",
       "      <td>-0.118606</td>\n",
       "      <td>0.458116</td>\n",
       "      <td>3.191402</td>\n",
       "    </tr>\n",
       "    <tr>\n",
       "      <th>L_angle</th>\n",
       "      <td>310.0</td>\n",
       "      <td>1.980495e-16</td>\n",
       "      <td>1.001617</td>\n",
       "      <td>-2.047652</td>\n",
       "      <td>-0.806027</td>\n",
       "      <td>-0.127862</td>\n",
       "      <td>0.597549</td>\n",
       "      <td>3.984615</td>\n",
       "    </tr>\n",
       "    <tr>\n",
       "      <th>S_slope</th>\n",
       "      <td>310.0</td>\n",
       "      <td>2.829278e-17</td>\n",
       "      <td>1.001617</td>\n",
       "      <td>-2.207741</td>\n",
       "      <td>-0.716842</td>\n",
       "      <td>-0.040960</td>\n",
       "      <td>0.726941</td>\n",
       "      <td>5.855771</td>\n",
       "    </tr>\n",
       "    <tr>\n",
       "      <th>P_radius</th>\n",
       "      <td>310.0</td>\n",
       "      <td>-5.071212e-16</td>\n",
       "      <td>1.001617</td>\n",
       "      <td>-3.597963</td>\n",
       "      <td>-0.542383</td>\n",
       "      <td>0.026138</td>\n",
       "      <td>0.567621</td>\n",
       "      <td>3.395818</td>\n",
       "    </tr>\n",
       "    <tr>\n",
       "      <th>S_Degree</th>\n",
       "      <td>310.0</td>\n",
       "      <td>-1.277204e-16</td>\n",
       "      <td>1.001617</td>\n",
       "      <td>-0.996172</td>\n",
       "      <td>-0.658507</td>\n",
       "      <td>-0.387450</td>\n",
       "      <td>0.399768</td>\n",
       "      <td>10.460350</td>\n",
       "    </tr>\n",
       "  </tbody>\n",
       "</table>\n",
       "</div>"
      ],
      "text/plain": [
       "             count          mean       std       min       25%       50%  \\\n",
       "P_incidence  310.0  1.042177e-16  1.001617 -1.996010 -0.817398 -0.104925   \n",
       "P_tilt       310.0  2.096889e-16  1.001617 -2.411664 -0.688114 -0.118606   \n",
       "L_angle      310.0  1.980495e-16  1.001617 -2.047652 -0.806027 -0.127862   \n",
       "S_slope      310.0  2.829278e-17  1.001617 -2.207741 -0.716842 -0.040960   \n",
       "P_radius     310.0 -5.071212e-16  1.001617 -3.597963 -0.542383  0.026138   \n",
       "S_Degree     310.0 -1.277204e-16  1.001617 -0.996172 -0.658507 -0.387450   \n",
       "\n",
       "                  75%        max  \n",
       "P_incidence  0.719464   4.029206  \n",
       "P_tilt       0.458116   3.191402  \n",
       "L_angle      0.597549   3.984615  \n",
       "S_slope      0.726941   5.855771  \n",
       "P_radius     0.567621   3.395818  \n",
       "S_Degree     0.399768  10.460350  "
      ]
     },
     "execution_count": 214,
     "metadata": {},
     "output_type": "execute_result"
    }
   ],
   "source": [
    "X_Scaled.describe().T"
   ]
  },
  {
   "cell_type": "markdown",
   "id": "086b8657-324e-49a6-abf9-c345e9560c21",
   "metadata": {},
   "source": [
    "*We have scaled independent variables to corresponding z-score.*\n",
    "\n",
    "*We can see Mean becomes close to zero and Standard Deviation becomes 1*"
   ]
  },
  {
   "cell_type": "markdown",
   "id": "59c3e986-580f-451e-b341-5c659b8ea24a",
   "metadata": {},
   "source": [
    "**B. Split data into train and test with 80:20 proportion. [1 Marks]**"
   ]
  },
  {
   "cell_type": "code",
   "execution_count": 216,
   "id": "7230c9aa-cc92-4eed-8164-ca41ee8adc65",
   "metadata": {},
   "outputs": [],
   "source": [
    "X_train, X_test, y_train, y_test = train_test_split(X, y, test_size=0.20, random_state=1)"
   ]
  },
  {
   "cell_type": "markdown",
   "id": "53a968c6-e954-4533-b9f0-13ef238b188e",
   "metadata": {},
   "source": [
    "**C. Train a Supervised Learning Classification base model using KNN classifier. [2 Marks]**"
   ]
  },
  {
   "cell_type": "code",
   "execution_count": 218,
   "id": "6827a260-330f-4c88-9cd4-4321fcf56cec",
   "metadata": {},
   "outputs": [],
   "source": [
    "KNN = KNeighborsClassifier(n_neighbors= 5 , metric = 'euclidean' )"
   ]
  },
  {
   "cell_type": "code",
   "execution_count": 219,
   "id": "8f97f903-f0a5-4615-92e9-99430596da63",
   "metadata": {},
   "outputs": [],
   "source": [
    "KNN.fit(X_train, y_train)\n",
    "predicted_labels = KNN.predict(X_test)"
   ]
  },
  {
   "cell_type": "markdown",
   "id": "98731391-a4d3-4ada-bff2-024ba137528f",
   "metadata": {},
   "source": [
    "**D. Print all the possible performance metrics for both train and test data. [2 Marks]**"
   ]
  },
  {
   "cell_type": "code",
   "execution_count": 220,
   "id": "146592fd-a20b-4b97-a975-e2c3602395e8",
   "metadata": {},
   "outputs": [
    {
     "name": "stdout",
     "output_type": "stream",
     "text": [
      "Accuracy on Training data: 0.8911290322580645\n",
      "Accuracy on Test data: 0.8387096774193549\n"
     ]
    }
   ],
   "source": [
    "print('Accuracy on Training data:',KNN.score(X_train, y_train) )\n",
    "print('Accuracy on Test data:',KNN.score(X_test, y_test) )"
   ]
  },
  {
   "cell_type": "markdown",
   "id": "a190c86d-f06b-4b64-90f3-f4007052d778",
   "metadata": {},
   "source": [
    "**5. Performance Improvement: [4 Marks]**\n",
    "\n",
    "**A. Experiment with various parameters to improve performance of the base model. [2 Marks]**\n",
    "\n",
    "*(Optional: Experiment with various Hyperparameters - Research required)*"
   ]
  },
  {
   "cell_type": "code",
   "execution_count": 221,
   "id": "6d51fd00-c0d2-4007-9648-c4e56a416f6d",
   "metadata": {},
   "outputs": [
    {
     "data": {
      "image/png": "[encoded data removed]",
      "text/plain": [
       "<Figure size 432x288 with 1 Axes>"
      ]
     },
     "metadata": {
      "needs_background": "light"
     },
     "output_type": "display_data"
    }
   ],
   "source": [
    "train_score=[]\n",
    "test_score=[]\n",
    "for k in range(1,51):\n",
    "    KNN = KNeighborsClassifier(n_neighbors= k , metric = 'euclidean' ) \n",
    "    KNN.fit(X_train, y_train)\n",
    "    train_score.append(KNN.score(X_train, y_train))\n",
    "    test_score.append(KNN.score(X_test, y_test))\n",
    "plt.plot(range(1,51),train_score)\n",
    "plt.show()"
   ]
  },
  {
   "cell_type": "markdown",
   "id": "ca523914-febc-44a6-bcac-54718d531dd2",
   "metadata": {},
   "source": [
    "*We see that training accuracy decreases as k value increases.*"
   ]
  },
  {
   "cell_type": "code",
   "execution_count": 222,
   "id": "443555b2-e7cb-4f72-8576-a03815aaa51d",
   "metadata": {},
   "outputs": [
    {
     "data": {
      "image/png": "[encoded data removed]",
      "text/plain": [
       "<Figure size 432x288 with 1 Axes>"
      ]
     },
     "metadata": {
      "needs_background": "light"
     },
     "output_type": "display_data"
    }
   ],
   "source": [
    "plt.plot(range(1,51),test_score)\n",
    "plt.show()"
   ]
  },
  {
   "cell_type": "markdown",
   "id": "7cdc996c-a698-4097-b6d7-92ee468a999c",
   "metadata": {},
   "source": [
    "*It is evident from above figure that maximum accuracy is for K<20. So we will chooe k value less than 20 and check the model.*"
   ]
  },
  {
   "cell_type": "markdown",
   "id": "c42676a0-b375-482b-a68c-a0487cba89c9",
   "metadata": {},
   "source": [
    "**B. Clearly showcase improvement in performance achieved. [1 Marks]**\n",
    "\n",
    "*For Example:*\n",
    "\n",
    "*A. Accuracy: +15% improvement*\n",
    "\n",
    "*B. Precision: +10% improvement.*"
   ]
  },
  {
   "cell_type": "code",
   "execution_count": 228,
   "id": "e6a66cc5-61d1-4c7b-94cb-5a8f8f990e71",
   "metadata": {},
   "outputs": [
    {
     "name": "stdout",
     "output_type": "stream",
     "text": [
      "Accuracy on Training data for k 1 is 1.0:\n",
      "Accuracy on Test data for k 1 is 0.9032258064516129:\n",
      "classification  Matrix:\n",
      "               precision    recall  f1-score   support\n",
      "\n",
      "      Normal       0.81      0.94      0.87        18\n",
      "      Type_H       0.89      0.73      0.80        11\n",
      "      Type_S       0.97      0.94      0.95        33\n",
      "\n",
      "    accuracy                           0.90        62\n",
      "   macro avg       0.89      0.87      0.88        62\n",
      "weighted avg       0.91      0.90      0.90        62\n",
      "\n",
      "Accuracy on Training data for k 3 is 0.9153225806451613:\n",
      "Accuracy on Test data for k 3 is 0.8548387096774194:\n",
      "classification  Matrix:\n",
      "               precision    recall  f1-score   support\n",
      "\n",
      "      Normal       0.73      0.89      0.80        18\n",
      "      Type_H       0.78      0.64      0.70        11\n",
      "      Type_S       0.97      0.91      0.94        33\n",
      "\n",
      "    accuracy                           0.85        62\n",
      "   macro avg       0.82      0.81      0.81        62\n",
      "weighted avg       0.86      0.85      0.86        62\n",
      "\n",
      "Accuracy on Training data for k 5 is 0.8911290322580645:\n",
      "Accuracy on Test data for k 5 is 0.8387096774193549:\n",
      "classification  Matrix:\n",
      "               precision    recall  f1-score   support\n",
      "\n",
      "      Normal       0.67      0.89      0.76        18\n",
      "      Type_H       0.88      0.64      0.74        11\n",
      "      Type_S       0.97      0.88      0.92        33\n",
      "\n",
      "    accuracy                           0.84        62\n",
      "   macro avg       0.84      0.80      0.81        62\n",
      "weighted avg       0.86      0.84      0.84        62\n",
      "\n",
      "Accuracy on Training data for k 7 is 0.8588709677419355:\n",
      "Accuracy on Test data for k 7 is 0.8225806451612904:\n",
      "classification  Matrix:\n",
      "               precision    recall  f1-score   support\n",
      "\n",
      "      Normal       0.68      0.72      0.70        18\n",
      "      Type_H       0.67      0.73      0.70        11\n",
      "      Type_S       0.97      0.91      0.94        33\n",
      "\n",
      "    accuracy                           0.82        62\n",
      "   macro avg       0.77      0.79      0.78        62\n",
      "weighted avg       0.83      0.82      0.83        62\n",
      "\n",
      "Accuracy on Training data for k 9 is 0.875:\n",
      "Accuracy on Test data for k 9 is 0.8064516129032258:\n",
      "classification  Matrix:\n",
      "               precision    recall  f1-score   support\n",
      "\n",
      "      Normal       0.65      0.72      0.68        18\n",
      "      Type_H       0.73      0.73      0.73        11\n",
      "      Type_S       0.94      0.88      0.91        33\n",
      "\n",
      "    accuracy                           0.81        62\n",
      "   macro avg       0.77      0.78      0.77        62\n",
      "weighted avg       0.82      0.81      0.81        62\n",
      "\n",
      "Accuracy on Training data for k 11 is 0.8548387096774194:\n",
      "Accuracy on Test data for k 11 is 0.7903225806451613:\n",
      "classification  Matrix:\n",
      "               precision    recall  f1-score   support\n",
      "\n",
      "      Normal       0.65      0.72      0.68        18\n",
      "      Type_H       0.64      0.64      0.64        11\n",
      "      Type_S       0.94      0.88      0.91        33\n",
      "\n",
      "    accuracy                           0.79        62\n",
      "   macro avg       0.74      0.75      0.74        62\n",
      "weighted avg       0.80      0.79      0.79        62\n",
      "\n",
      "Accuracy on Training data for k 13 is 0.8669354838709677:\n",
      "Accuracy on Test data for k 13 is 0.7903225806451613:\n",
      "classification  Matrix:\n",
      "               precision    recall  f1-score   support\n",
      "\n",
      "      Normal       0.65      0.72      0.68        18\n",
      "      Type_H       0.64      0.64      0.64        11\n",
      "      Type_S       0.94      0.88      0.91        33\n",
      "\n",
      "    accuracy                           0.79        62\n",
      "   macro avg       0.74      0.75      0.74        62\n",
      "weighted avg       0.80      0.79      0.79        62\n",
      "\n",
      "Accuracy on Training data for k 15 is 0.8548387096774194:\n",
      "Accuracy on Test data for k 15 is 0.7903225806451613:\n",
      "classification  Matrix:\n",
      "               precision    recall  f1-score   support\n",
      "\n",
      "      Normal       0.65      0.72      0.68        18\n",
      "      Type_H       0.64      0.64      0.64        11\n",
      "      Type_S       0.94      0.88      0.91        33\n",
      "\n",
      "    accuracy                           0.79        62\n",
      "   macro avg       0.74      0.75      0.74        62\n",
      "weighted avg       0.80      0.79      0.79        62\n",
      "\n",
      "Accuracy on Training data for k 17 is 0.8467741935483871:\n",
      "Accuracy on Test data for k 17 is 0.8387096774193549:\n",
      "classification  Matrix:\n",
      "               precision    recall  f1-score   support\n",
      "\n",
      "      Normal       0.71      0.83      0.77        18\n",
      "      Type_H       0.80      0.73      0.76        11\n",
      "      Type_S       0.94      0.88      0.91        33\n",
      "\n",
      "    accuracy                           0.84        62\n",
      "   macro avg       0.82      0.81      0.81        62\n",
      "weighted avg       0.85      0.84      0.84        62\n",
      "\n",
      "Accuracy on Training data for k 19 is 0.842741935483871:\n",
      "Accuracy on Test data for k 19 is 0.8225806451612904:\n",
      "classification  Matrix:\n",
      "               precision    recall  f1-score   support\n",
      "\n",
      "      Normal       0.68      0.83      0.75        18\n",
      "      Type_H       0.70      0.64      0.67        11\n",
      "      Type_S       0.97      0.88      0.92        33\n",
      "\n",
      "    accuracy                           0.82        62\n",
      "   macro avg       0.78      0.78      0.78        62\n",
      "weighted avg       0.84      0.82      0.83        62\n",
      "\n"
     ]
    }
   ],
   "source": [
    "k=[1,3,5,7,9,11,13,15,17,19]\n",
    "for i in k:\n",
    "    KNN = KNeighborsClassifier(n_neighbors=i, metric = 'euclidean' ) #Building knn with 5 neighbors\n",
    "    KNN.fit(X_train, y_train)\n",
    "    predicted_labels = KNN.predict(X_test)\n",
    "    print('Accuracy on Training data for k {} is {}:'.format(i,KNN.score(X_train, y_train)))\n",
    "    print('Accuracy on Test data for k {} is {}:'.format(i,KNN.score(X_test, y_test)))\n",
    "    print(\"classification  Matrix:\\n\",classification_report(y_test,predicted_labels))"
   ]
  },
  {
   "cell_type": "markdown",
   "id": "8a59f21e-37fc-447d-8cf5-42959d5da2c0",
   "metadata": {},
   "source": [
    "*For K=13 we have balanced train and test error*"
   ]
  },
  {
   "cell_type": "markdown",
   "id": "063ce10c-6d75-4ec4-b44b-f7e0dcf264e2",
   "metadata": {},
   "source": [
    "**C. Clearly state which parameters contributed most to improve model performance. [1 Marks]**"
   ]
  },
  {
   "cell_type": "markdown",
   "id": "671d6669-1680-46c6-a817-a7cc3f19d00c",
   "metadata": {},
   "source": [
    "*When the scaled values are used instead of normal values Logistic regression is performing well.*"
   ]
  },
  {
   "cell_type": "markdown",
   "id": "391d6807-1243-4385-9c31-6e46824018fa",
   "metadata": {},
   "source": [
    "***PART-B***"
   ]
  },
  {
   "cell_type": "markdown",
   "id": "e7b8b5ca-fc1b-43be-b408-04334b92f67c",
   "metadata": {},
   "source": [
    "**DOMAIN: Banking, Marketing**"
   ]
  },
  {
   "cell_type": "markdown",
   "id": "5cd6059c-ea25-4c1b-b9c8-4f7729bd320f",
   "metadata": {},
   "source": [
    "**CONTEXT: A bank X is on a massive digital transformation for all its departments. Bank has a growing customer base whee majority of them are\n",
    "liability customers (depositors) vs borrowers (asset customers). The bank is interested in expanding the borrowers base rapidly to bring in more\n",
    "business via loan interests. A campaign that the bank ran in last quarter showed an average single digit conversion rate. Digital transformation\n",
    "being the core strength of the business strategy, marketing department wants to devise effective campaigns with better target marketing to\n",
    "increase the conversion ratio to double digit with same budget as per last campaign.**"
   ]
  },
  {
   "cell_type": "markdown",
   "id": "c83fd7ed-efc2-4b91-87b3-1e7a8c272a08",
   "metadata": {},
   "source": [
    "**DATA DICTIONARY:**\n",
    "\n",
    "*1. Team: Team’s name*\n",
    "\n",
    "*2. ID: Customer ID*\n",
    "\n",
    "*3. Age: Customer’s approximate age.*\n",
    "\n",
    "*4. CustomerSince: Customer of the bank since. [unit is masked]*\n",
    "\n",
    "*5. HighestSpend: Customer’s highest spend so far in one transaction. [unit is masked]*\n",
    "\n",
    "*6. ZipCode: Customer’s zip code.*\n",
    "\n",
    "*7. HiddenScore: A score associated to the customer which is masked by the bank as an IP.*\n",
    "\n",
    "*8. MonthlyAverageSpend: Customer’s monthly average spend so far. [unit is masked]*\n",
    "\n",
    "*9. Level: A level associated to the customer which is masked by the bank as an IP.*\n",
    "\n",
    "*10. Mortgage: Customer’s mortgage. [unit is masked]*\n",
    "\n",
    "*11. Security: Customer’s security asset with the bank. [unit is masked]*\n",
    "\n",
    "*12. FixedDepositAccount: Customer’s fixed deposit account with the bank. [unit is masked]*\n",
    "\n",
    "*13. InternetBanking: if the customer uses internet banking.*\n",
    "\n",
    "*14. CreditCard: if the customer uses bank’s credit card.*\n",
    "\n",
    "*15. LoanOnCard: if the customer has a loan on credit card.*"
   ]
  },
  {
   "cell_type": "markdown",
   "id": "99778f17-ccde-402c-937d-166e053efe57",
   "metadata": {},
   "source": [
    "**PROJECT OBJECTIVE: Build a Machine Learning model to perform focused marketing by predicting the potential customers who will convert\n",
    "using the historical dataset.**\n",
    "\n",
    "**STEPS AND TASK [30 Marks]:**"
   ]
  },
  {
   "cell_type": "markdown",
   "id": "2b8d37da-2e95-4ef6-b447-e272914cc215",
   "metadata": {},
   "source": [
    "**1. Data Understanding and Preparation: [5 Marks]**\n",
    "\n",
    "**A. Read both the Datasets ‘Data1’ and ‘Data 2’ as DataFrame and store them into two separate variables. [1 Marks]**"
   ]
  },
  {
   "cell_type": "markdown",
   "id": "b52de631-af86-49e8-bea5-9bf189657011",
   "metadata": {},
   "source": [
    "*Reading the Data set 1 and 2*"
   ]
  },
  {
   "cell_type": "code",
   "execution_count": 260,
   "id": "515a5f11-7369-4e47-94cd-5672eee42ff2",
   "metadata": {},
   "outputs": [],
   "source": [
    "df1 = pd.read_csv('Data1.csv')\n",
    "df2 = pd.read_csv('Data2.csv')"
   ]
  },
  {
   "cell_type": "markdown",
   "id": "cbf53a54-aa1a-4098-a5a8-f3233748f571",
   "metadata": {},
   "source": [
    "*Checking First 5 rows*"
   ]
  },
  {
   "cell_type": "markdown",
   "id": "5fafbe4b-164e-483c-bb74-58a0bdebbff1",
   "metadata": {},
   "source": [
    "*Data1*"
   ]
  },
  {
   "cell_type": "code",
   "execution_count": 261,
   "id": "25aaf5f7-dbe4-474d-a7af-3e4d970220c6",
   "metadata": {},
   "outputs": [
    {
     "data": {
      "text/html": [
       "<div>\n",
       "<style scoped>\n",
       "    .dataframe tbody tr th:only-of-type {\n",
       "        vertical-align: middle;\n",
       "    }\n",
       "\n",
       "    .dataframe tbody tr th {\n",
       "        vertical-align: top;\n",
       "    }\n",
       "\n",
       "    .dataframe thead th {\n",
       "        text-align: right;\n",
       "    }\n",
       "</style>\n",
       "<table border=\"1\" class=\"dataframe\">\n",
       "  <thead>\n",
       "    <tr style=\"text-align: right;\">\n",
       "      <th></th>\n",
       "      <th>ID</th>\n",
       "      <th>Age</th>\n",
       "      <th>CustomerSince</th>\n",
       "      <th>HighestSpend</th>\n",
       "      <th>ZipCode</th>\n",
       "      <th>HiddenScore</th>\n",
       "      <th>MonthlyAverageSpend</th>\n",
       "      <th>Level</th>\n",
       "    </tr>\n",
       "  </thead>\n",
       "  <tbody>\n",
       "    <tr>\n",
       "      <th>0</th>\n",
       "      <td>1</td>\n",
       "      <td>25</td>\n",
       "      <td>1</td>\n",
       "      <td>49</td>\n",
       "      <td>91107</td>\n",
       "      <td>4</td>\n",
       "      <td>1.6</td>\n",
       "      <td>1</td>\n",
       "    </tr>\n",
       "    <tr>\n",
       "      <th>1</th>\n",
       "      <td>2</td>\n",
       "      <td>45</td>\n",
       "      <td>19</td>\n",
       "      <td>34</td>\n",
       "      <td>90089</td>\n",
       "      <td>3</td>\n",
       "      <td>1.5</td>\n",
       "      <td>1</td>\n",
       "    </tr>\n",
       "    <tr>\n",
       "      <th>2</th>\n",
       "      <td>3</td>\n",
       "      <td>39</td>\n",
       "      <td>15</td>\n",
       "      <td>11</td>\n",
       "      <td>94720</td>\n",
       "      <td>1</td>\n",
       "      <td>1.0</td>\n",
       "      <td>1</td>\n",
       "    </tr>\n",
       "    <tr>\n",
       "      <th>3</th>\n",
       "      <td>4</td>\n",
       "      <td>35</td>\n",
       "      <td>9</td>\n",
       "      <td>100</td>\n",
       "      <td>94112</td>\n",
       "      <td>1</td>\n",
       "      <td>2.7</td>\n",
       "      <td>2</td>\n",
       "    </tr>\n",
       "    <tr>\n",
       "      <th>4</th>\n",
       "      <td>5</td>\n",
       "      <td>35</td>\n",
       "      <td>8</td>\n",
       "      <td>45</td>\n",
       "      <td>91330</td>\n",
       "      <td>4</td>\n",
       "      <td>1.0</td>\n",
       "      <td>2</td>\n",
       "    </tr>\n",
       "  </tbody>\n",
       "</table>\n",
       "</div>"
      ],
      "text/plain": [
       "   ID  Age  CustomerSince  HighestSpend  ZipCode  HiddenScore  \\\n",
       "0   1   25              1            49    91107            4   \n",
       "1   2   45             19            34    90089            3   \n",
       "2   3   39             15            11    94720            1   \n",
       "3   4   35              9           100    94112            1   \n",
       "4   5   35              8            45    91330            4   \n",
       "\n",
       "   MonthlyAverageSpend  Level  \n",
       "0                  1.6      1  \n",
       "1                  1.5      1  \n",
       "2                  1.0      1  \n",
       "3                  2.7      2  \n",
       "4                  1.0      2  "
      ]
     },
     "execution_count": 261,
     "metadata": {},
     "output_type": "execute_result"
    }
   ],
   "source": [
    "df1.head()"
   ]
  },
  {
   "cell_type": "markdown",
   "id": "b9b3e8a9-9011-478c-9c9b-e673588bbe7f",
   "metadata": {},
   "source": [
    "*Data2*"
   ]
  },
  {
   "cell_type": "code",
   "execution_count": 262,
   "id": "35fbbded-478c-4ada-b0fc-3956b75e9c93",
   "metadata": {},
   "outputs": [
    {
     "data": {
      "text/html": [
       "<div>\n",
       "<style scoped>\n",
       "    .dataframe tbody tr th:only-of-type {\n",
       "        vertical-align: middle;\n",
       "    }\n",
       "\n",
       "    .dataframe tbody tr th {\n",
       "        vertical-align: top;\n",
       "    }\n",
       "\n",
       "    .dataframe thead th {\n",
       "        text-align: right;\n",
       "    }\n",
       "</style>\n",
       "<table border=\"1\" class=\"dataframe\">\n",
       "  <thead>\n",
       "    <tr style=\"text-align: right;\">\n",
       "      <th></th>\n",
       "      <th>ID</th>\n",
       "      <th>Mortgage</th>\n",
       "      <th>Security</th>\n",
       "      <th>FixedDepositAccount</th>\n",
       "      <th>InternetBanking</th>\n",
       "      <th>CreditCard</th>\n",
       "      <th>LoanOnCard</th>\n",
       "    </tr>\n",
       "  </thead>\n",
       "  <tbody>\n",
       "    <tr>\n",
       "      <th>0</th>\n",
       "      <td>1</td>\n",
       "      <td>0</td>\n",
       "      <td>1</td>\n",
       "      <td>0</td>\n",
       "      <td>0</td>\n",
       "      <td>0</td>\n",
       "      <td>NaN</td>\n",
       "    </tr>\n",
       "    <tr>\n",
       "      <th>1</th>\n",
       "      <td>2</td>\n",
       "      <td>0</td>\n",
       "      <td>1</td>\n",
       "      <td>0</td>\n",
       "      <td>0</td>\n",
       "      <td>0</td>\n",
       "      <td>NaN</td>\n",
       "    </tr>\n",
       "    <tr>\n",
       "      <th>2</th>\n",
       "      <td>3</td>\n",
       "      <td>0</td>\n",
       "      <td>0</td>\n",
       "      <td>0</td>\n",
       "      <td>0</td>\n",
       "      <td>0</td>\n",
       "      <td>NaN</td>\n",
       "    </tr>\n",
       "    <tr>\n",
       "      <th>3</th>\n",
       "      <td>4</td>\n",
       "      <td>0</td>\n",
       "      <td>0</td>\n",
       "      <td>0</td>\n",
       "      <td>0</td>\n",
       "      <td>0</td>\n",
       "      <td>NaN</td>\n",
       "    </tr>\n",
       "    <tr>\n",
       "      <th>4</th>\n",
       "      <td>5</td>\n",
       "      <td>0</td>\n",
       "      <td>0</td>\n",
       "      <td>0</td>\n",
       "      <td>0</td>\n",
       "      <td>1</td>\n",
       "      <td>NaN</td>\n",
       "    </tr>\n",
       "  </tbody>\n",
       "</table>\n",
       "</div>"
      ],
      "text/plain": [
       "   ID  Mortgage  Security  FixedDepositAccount  InternetBanking  CreditCard  \\\n",
       "0   1         0         1                    0                0           0   \n",
       "1   2         0         1                    0                0           0   \n",
       "2   3         0         0                    0                0           0   \n",
       "3   4         0         0                    0                0           0   \n",
       "4   5         0         0                    0                0           1   \n",
       "\n",
       "   LoanOnCard  \n",
       "0         NaN  \n",
       "1         NaN  \n",
       "2         NaN  \n",
       "3         NaN  \n",
       "4         NaN  "
      ]
     },
     "execution_count": 262,
     "metadata": {},
     "output_type": "execute_result"
    }
   ],
   "source": [
    "df2.head()"
   ]
  },
  {
   "cell_type": "markdown",
   "id": "2440c8b2-455c-4dde-ae6a-ef7e534b9dad",
   "metadata": {},
   "source": [
    "**B. Print shape and Column Names and DataTypes of both the Dataframes. [1 Marks]**"
   ]
  },
  {
   "cell_type": "markdown",
   "id": "f753be75-f848-4f74-8dad-3d4012609888",
   "metadata": {},
   "source": [
    "*Data1*"
   ]
  },
  {
   "cell_type": "code",
   "execution_count": 263,
   "id": "3498f86d-8ccf-428b-ae4c-d3ed8cb6cc23",
   "metadata": {},
   "outputs": [
    {
     "data": {
      "text/plain": [
       "(5000, 8)"
      ]
     },
     "execution_count": 263,
     "metadata": {},
     "output_type": "execute_result"
    }
   ],
   "source": [
    "df1.shape"
   ]
  },
  {
   "cell_type": "markdown",
   "id": "501bd56b-842b-4dac-8fde-ffced0220b3f",
   "metadata": {},
   "source": [
    "*Data set 1 has 5000 rows and 8 columns*"
   ]
  },
  {
   "cell_type": "code",
   "execution_count": 264,
   "id": "77184d07-d3ff-406b-a467-8f9b78d08f9b",
   "metadata": {},
   "outputs": [
    {
     "data": {
      "text/plain": [
       "Index(['ID', 'Age', 'CustomerSince', 'HighestSpend', 'ZipCode', 'HiddenScore',\n",
       "       'MonthlyAverageSpend', 'Level'],\n",
       "      dtype='object')"
      ]
     },
     "execution_count": 264,
     "metadata": {},
     "output_type": "execute_result"
    }
   ],
   "source": [
    "df1.columns"
   ]
  },
  {
   "cell_type": "code",
   "execution_count": 266,
   "id": "0871e11f-bc79-4825-a051-1cc7919c5520",
   "metadata": {},
   "outputs": [
    {
     "name": "stdout",
     "output_type": "stream",
     "text": [
      "<class 'pandas.core.frame.DataFrame'>\n",
      "RangeIndex: 5000 entries, 0 to 4999\n",
      "Data columns (total 8 columns):\n",
      " #   Column               Non-Null Count  Dtype  \n",
      "---  ------               --------------  -----  \n",
      " 0   ID                   5000 non-null   int64  \n",
      " 1   Age                  5000 non-null   int64  \n",
      " 2   CustomerSince        5000 non-null   int64  \n",
      " 3   HighestSpend         5000 non-null   int64  \n",
      " 4   ZipCode              5000 non-null   int64  \n",
      " 5   HiddenScore          5000 non-null   int64  \n",
      " 6   MonthlyAverageSpend  5000 non-null   float64\n",
      " 7   Level                5000 non-null   int64  \n",
      "dtypes: float64(1), int64(7)\n",
      "memory usage: 312.6 KB\n"
     ]
    }
   ],
   "source": [
    "df1.info()"
   ]
  },
  {
   "cell_type": "code",
   "execution_count": 275,
   "id": "943b2c0d-290e-4b6e-9c4d-a63455b30e97",
   "metadata": {},
   "outputs": [
    {
     "data": {
      "text/plain": [
       "ID                       int64\n",
       "Age                      int64\n",
       "CustomerSince            int64\n",
       "HighestSpend             int64\n",
       "ZipCode                  int64\n",
       "HiddenScore              int64\n",
       "MonthlyAverageSpend    float64\n",
       "Level                    int64\n",
       "dtype: object"
      ]
     },
     "execution_count": 275,
     "metadata": {},
     "output_type": "execute_result"
    }
   ],
   "source": [
    "df1.dtypes"
   ]
  },
  {
   "cell_type": "markdown",
   "id": "dd071648-d8cf-4247-90d9-9d0207376eee",
   "metadata": {},
   "source": [
    "*Data2*"
   ]
  },
  {
   "cell_type": "code",
   "execution_count": 267,
   "id": "b47efcc4-ec28-452d-b80e-964942b77ab4",
   "metadata": {},
   "outputs": [
    {
     "data": {
      "text/plain": [
       "(5000, 7)"
      ]
     },
     "execution_count": 267,
     "metadata": {},
     "output_type": "execute_result"
    }
   ],
   "source": [
    "df2.shape"
   ]
  },
  {
   "cell_type": "markdown",
   "id": "e3bf2798-e587-4a80-868a-550740475642",
   "metadata": {},
   "source": [
    "*Data set 2 has 5000 rows and 7 columns*"
   ]
  },
  {
   "cell_type": "code",
   "execution_count": 268,
   "id": "1fda5898-0a47-45a0-a92f-b18b5a85606f",
   "metadata": {},
   "outputs": [
    {
     "data": {
      "text/plain": [
       "Index(['ID', 'Mortgage', 'Security', 'FixedDepositAccount', 'InternetBanking',\n",
       "       'CreditCard', 'LoanOnCard'],\n",
       "      dtype='object')"
      ]
     },
     "execution_count": 268,
     "metadata": {},
     "output_type": "execute_result"
    }
   ],
   "source": [
    "df2.columns"
   ]
  },
  {
   "cell_type": "code",
   "execution_count": 269,
   "id": "ea3bacd9-ceea-46d4-b4d1-8514a6ed7221",
   "metadata": {},
   "outputs": [
    {
     "name": "stdout",
     "output_type": "stream",
     "text": [
      "<class 'pandas.core.frame.DataFrame'>\n",
      "RangeIndex: 5000 entries, 0 to 4999\n",
      "Data columns (total 7 columns):\n",
      " #   Column               Non-Null Count  Dtype  \n",
      "---  ------               --------------  -----  \n",
      " 0   ID                   5000 non-null   int64  \n",
      " 1   Mortgage             5000 non-null   int64  \n",
      " 2   Security             5000 non-null   int64  \n",
      " 3   FixedDepositAccount  5000 non-null   int64  \n",
      " 4   InternetBanking      5000 non-null   int64  \n",
      " 5   CreditCard           5000 non-null   int64  \n",
      " 6   LoanOnCard           4980 non-null   float64\n",
      "dtypes: float64(1), int64(6)\n",
      "memory usage: 273.6 KB\n"
     ]
    }
   ],
   "source": [
    "df2.info()"
   ]
  },
  {
   "cell_type": "code",
   "execution_count": 276,
   "id": "dff8447a-75ee-4b88-92db-a18d70d258e4",
   "metadata": {},
   "outputs": [
    {
     "data": {
      "text/plain": [
       "ID                       int64\n",
       "Mortgage                 int64\n",
       "Security                 int64\n",
       "FixedDepositAccount      int64\n",
       "InternetBanking          int64\n",
       "CreditCard               int64\n",
       "LoanOnCard             float64\n",
       "dtype: object"
      ]
     },
     "execution_count": 276,
     "metadata": {},
     "output_type": "execute_result"
    }
   ],
   "source": [
    "df2.dtypes"
   ]
  },
  {
   "cell_type": "markdown",
   "id": "20fe5f1e-c905-44f6-a8d4-3497f55eead7",
   "metadata": {},
   "source": [
    "**C. Merge both the Dataframes on ‘ID’ feature to form a single DataFrame [2 Marks]**"
   ]
  },
  {
   "cell_type": "code",
   "execution_count": 295,
   "id": "e568b50d-b47f-4eeb-b200-7bb2b5050708",
   "metadata": {},
   "outputs": [],
   "source": [
    "##Since ID is common in both the datasets we will add the data column wise.\n",
    "df=df1.merge(df2,left_on='ID',right_on='ID')"
   ]
  },
  {
   "cell_type": "code",
   "execution_count": 296,
   "id": "ff0f7fbb-b9e3-4f7d-ab6b-65d5fa12f3b9",
   "metadata": {},
   "outputs": [
    {
     "data": {
      "text/html": [
       "<div>\n",
       "<style scoped>\n",
       "    .dataframe tbody tr th:only-of-type {\n",
       "        vertical-align: middle;\n",
       "    }\n",
       "\n",
       "    .dataframe tbody tr th {\n",
       "        vertical-align: top;\n",
       "    }\n",
       "\n",
       "    .dataframe thead th {\n",
       "        text-align: right;\n",
       "    }\n",
       "</style>\n",
       "<table border=\"1\" class=\"dataframe\">\n",
       "  <thead>\n",
       "    <tr style=\"text-align: right;\">\n",
       "      <th></th>\n",
       "      <th>ID</th>\n",
       "      <th>Age</th>\n",
       "      <th>CustomerSince</th>\n",
       "      <th>HighestSpend</th>\n",
       "      <th>ZipCode</th>\n",
       "      <th>HiddenScore</th>\n",
       "      <th>MonthlyAverageSpend</th>\n",
       "      <th>Level</th>\n",
       "      <th>Mortgage</th>\n",
       "      <th>Security</th>\n",
       "      <th>FixedDepositAccount</th>\n",
       "      <th>InternetBanking</th>\n",
       "      <th>CreditCard</th>\n",
       "      <th>LoanOnCard</th>\n",
       "    </tr>\n",
       "  </thead>\n",
       "  <tbody>\n",
       "    <tr>\n",
       "      <th>0</th>\n",
       "      <td>1</td>\n",
       "      <td>25</td>\n",
       "      <td>1</td>\n",
       "      <td>49</td>\n",
       "      <td>91107</td>\n",
       "      <td>4</td>\n",
       "      <td>1.6</td>\n",
       "      <td>1</td>\n",
       "      <td>0</td>\n",
       "      <td>1</td>\n",
       "      <td>0</td>\n",
       "      <td>0</td>\n",
       "      <td>0</td>\n",
       "      <td>NaN</td>\n",
       "    </tr>\n",
       "    <tr>\n",
       "      <th>1</th>\n",
       "      <td>2</td>\n",
       "      <td>45</td>\n",
       "      <td>19</td>\n",
       "      <td>34</td>\n",
       "      <td>90089</td>\n",
       "      <td>3</td>\n",
       "      <td>1.5</td>\n",
       "      <td>1</td>\n",
       "      <td>0</td>\n",
       "      <td>1</td>\n",
       "      <td>0</td>\n",
       "      <td>0</td>\n",
       "      <td>0</td>\n",
       "      <td>NaN</td>\n",
       "    </tr>\n",
       "    <tr>\n",
       "      <th>2</th>\n",
       "      <td>3</td>\n",
       "      <td>39</td>\n",
       "      <td>15</td>\n",
       "      <td>11</td>\n",
       "      <td>94720</td>\n",
       "      <td>1</td>\n",
       "      <td>1.0</td>\n",
       "      <td>1</td>\n",
       "      <td>0</td>\n",
       "      <td>0</td>\n",
       "      <td>0</td>\n",
       "      <td>0</td>\n",
       "      <td>0</td>\n",
       "      <td>NaN</td>\n",
       "    </tr>\n",
       "    <tr>\n",
       "      <th>3</th>\n",
       "      <td>4</td>\n",
       "      <td>35</td>\n",
       "      <td>9</td>\n",
       "      <td>100</td>\n",
       "      <td>94112</td>\n",
       "      <td>1</td>\n",
       "      <td>2.7</td>\n",
       "      <td>2</td>\n",
       "      <td>0</td>\n",
       "      <td>0</td>\n",
       "      <td>0</td>\n",
       "      <td>0</td>\n",
       "      <td>0</td>\n",
       "      <td>NaN</td>\n",
       "    </tr>\n",
       "    <tr>\n",
       "      <th>4</th>\n",
       "      <td>5</td>\n",
       "      <td>35</td>\n",
       "      <td>8</td>\n",
       "      <td>45</td>\n",
       "      <td>91330</td>\n",
       "      <td>4</td>\n",
       "      <td>1.0</td>\n",
       "      <td>2</td>\n",
       "      <td>0</td>\n",
       "      <td>0</td>\n",
       "      <td>0</td>\n",
       "      <td>0</td>\n",
       "      <td>1</td>\n",
       "      <td>NaN</td>\n",
       "    </tr>\n",
       "  </tbody>\n",
       "</table>\n",
       "</div>"
      ],
      "text/plain": [
       "   ID  Age  CustomerSince  HighestSpend  ZipCode  HiddenScore  \\\n",
       "0   1   25              1            49    91107            4   \n",
       "1   2   45             19            34    90089            3   \n",
       "2   3   39             15            11    94720            1   \n",
       "3   4   35              9           100    94112            1   \n",
       "4   5   35              8            45    91330            4   \n",
       "\n",
       "   MonthlyAverageSpend  Level  Mortgage  Security  FixedDepositAccount  \\\n",
       "0                  1.6      1         0         1                    0   \n",
       "1                  1.5      1         0         1                    0   \n",
       "2                  1.0      1         0         0                    0   \n",
       "3                  2.7      2         0         0                    0   \n",
       "4                  1.0      2         0         0                    0   \n",
       "\n",
       "   InternetBanking  CreditCard  LoanOnCard  \n",
       "0                0           0         NaN  \n",
       "1                0           0         NaN  \n",
       "2                0           0         NaN  \n",
       "3                0           0         NaN  \n",
       "4                0           1         NaN  "
      ]
     },
     "execution_count": 296,
     "metadata": {},
     "output_type": "execute_result"
    }
   ],
   "source": [
    "df.head()"
   ]
  },
  {
   "cell_type": "code",
   "execution_count": 297,
   "id": "7301abbb-88cb-431e-b718-47108df5e986",
   "metadata": {},
   "outputs": [
    {
     "data": {
      "text/plain": [
       "(5000, 14)"
      ]
     },
     "execution_count": 297,
     "metadata": {},
     "output_type": "execute_result"
    }
   ],
   "source": [
    "df.shape"
   ]
  },
  {
   "cell_type": "markdown",
   "id": "651f0493-b9b6-4cb6-b036-38d176305766",
   "metadata": {},
   "source": [
    "*Now the new dataframe has 5000 rows and 14 columns*"
   ]
  },
  {
   "cell_type": "code",
   "execution_count": 298,
   "id": "135cd746-bc85-4865-a97a-262382c34122",
   "metadata": {},
   "outputs": [
    {
     "name": "stdout",
     "output_type": "stream",
     "text": [
      "<class 'pandas.core.frame.DataFrame'>\n",
      "Int64Index: 5000 entries, 0 to 4999\n",
      "Data columns (total 14 columns):\n",
      " #   Column               Non-Null Count  Dtype  \n",
      "---  ------               --------------  -----  \n",
      " 0   ID                   5000 non-null   int64  \n",
      " 1   Age                  5000 non-null   int64  \n",
      " 2   CustomerSince        5000 non-null   int64  \n",
      " 3   HighestSpend         5000 non-null   int64  \n",
      " 4   ZipCode              5000 non-null   int64  \n",
      " 5   HiddenScore          5000 non-null   int64  \n",
      " 6   MonthlyAverageSpend  5000 non-null   float64\n",
      " 7   Level                5000 non-null   int64  \n",
      " 8   Mortgage             5000 non-null   int64  \n",
      " 9   Security             5000 non-null   int64  \n",
      " 10  FixedDepositAccount  5000 non-null   int64  \n",
      " 11  InternetBanking      5000 non-null   int64  \n",
      " 12  CreditCard           5000 non-null   int64  \n",
      " 13  LoanOnCard           4980 non-null   float64\n",
      "dtypes: float64(2), int64(12)\n",
      "memory usage: 585.9 KB\n"
     ]
    }
   ],
   "source": [
    "df.info()"
   ]
  },
  {
   "cell_type": "code",
   "execution_count": 299,
   "id": "94b61f8f-4a93-47c6-b133-9d711bd6745a",
   "metadata": {},
   "outputs": [
    {
     "data": {
      "text/plain": [
       "ID                       int64\n",
       "Age                      int64\n",
       "CustomerSince            int64\n",
       "HighestSpend             int64\n",
       "ZipCode                  int64\n",
       "HiddenScore              int64\n",
       "MonthlyAverageSpend    float64\n",
       "Level                    int64\n",
       "Mortgage                 int64\n",
       "Security                 int64\n",
       "FixedDepositAccount      int64\n",
       "InternetBanking          int64\n",
       "CreditCard               int64\n",
       "LoanOnCard             float64\n",
       "dtype: object"
      ]
     },
     "execution_count": 299,
     "metadata": {},
     "output_type": "execute_result"
    }
   ],
   "source": [
    "df.dtypes"
   ]
  },
  {
   "cell_type": "markdown",
   "id": "a607c521-06dd-415f-a20a-3b563a7b9097",
   "metadata": {},
   "source": [
    "**D. Change Datatype of below features to ‘Object’ [1 Marks]**\n",
    "\n",
    "*‘CreditCard’, ‘InternetBanking’, ‘FixedDepositAccount’, ‘Security’, ‘Level’, ‘HiddenScore’.*\n",
    "\n",
    "*[Reason behind performing this operation:- Values in these features are binary i.e. 1/0. But DataType is ‘int’/’float’ which is not expected.]*"
   ]
  },
  {
   "cell_type": "code",
   "execution_count": 300,
   "id": "ef7432e6-98c8-4822-9cd2-c79c4e5a38cf",
   "metadata": {},
   "outputs": [],
   "source": [
    "##Changing datatypes of categorical feature\n",
    "categorical_change=['HiddenScore','Level','Security','FixedDepositAccount', 'InternetBanking', 'CreditCard']\n",
    "for i in categorical_change:\n",
    "    df[i]=df[i].astype('object')"
   ]
  },
  {
   "cell_type": "code",
   "execution_count": 301,
   "id": "418d9afc-faab-4da1-9882-70b0c4bbaa9b",
   "metadata": {},
   "outputs": [
    {
     "data": {
      "text/plain": [
       "ID                       int64\n",
       "Age                      int64\n",
       "CustomerSince            int64\n",
       "HighestSpend             int64\n",
       "ZipCode                  int64\n",
       "HiddenScore             object\n",
       "MonthlyAverageSpend    float64\n",
       "Level                   object\n",
       "Mortgage                 int64\n",
       "Security                object\n",
       "FixedDepositAccount     object\n",
       "InternetBanking         object\n",
       "CreditCard              object\n",
       "LoanOnCard             float64\n",
       "dtype: object"
      ]
     },
     "execution_count": 301,
     "metadata": {},
     "output_type": "execute_result"
    }
   ],
   "source": [
    "df.dtypes"
   ]
  },
  {
   "cell_type": "markdown",
   "id": "fcff23bb-f30f-4a50-9678-d6247b4e3e1e",
   "metadata": {},
   "source": [
    "**2. Data Exploration and Analysis: [5 Marks]**\n",
    "\n",
    "**A. Visualize distribution of Target variable ‘LoanOnCard’ and clearly share insights. [2 Marks]**"
   ]
  },
  {
   "cell_type": "code",
   "execution_count": 302,
   "id": "d72a94c4-d07b-4014-9abb-48f145805c4c",
   "metadata": {},
   "outputs": [
    {
     "name": "stdout",
     "output_type": "stream",
     "text": [
      "<class 'pandas.core.frame.DataFrame'>\n",
      "Int64Index: 5000 entries, 0 to 4999\n",
      "Data columns (total 14 columns):\n",
      " #   Column               Non-Null Count  Dtype  \n",
      "---  ------               --------------  -----  \n",
      " 0   ID                   5000 non-null   int64  \n",
      " 1   Age                  5000 non-null   int64  \n",
      " 2   CustomerSince        5000 non-null   int64  \n",
      " 3   HighestSpend         5000 non-null   int64  \n",
      " 4   ZipCode              5000 non-null   int64  \n",
      " 5   HiddenScore          5000 non-null   object \n",
      " 6   MonthlyAverageSpend  5000 non-null   float64\n",
      " 7   Level                5000 non-null   object \n",
      " 8   Mortgage             5000 non-null   int64  \n",
      " 9   Security             5000 non-null   object \n",
      " 10  FixedDepositAccount  5000 non-null   object \n",
      " 11  InternetBanking      5000 non-null   object \n",
      " 12  CreditCard           5000 non-null   object \n",
      " 13  LoanOnCard           4980 non-null   float64\n",
      "dtypes: float64(2), int64(6), object(6)\n",
      "memory usage: 585.9+ KB\n"
     ]
    }
   ],
   "source": [
    "df.info()"
   ]
  },
  {
   "cell_type": "code",
   "execution_count": 303,
   "id": "4138e296-c0fa-4e22-b832-77a7b5dbf5f7",
   "metadata": {},
   "outputs": [
    {
     "data": {
      "image/png": "[encoded data removed]",
      "text/plain": [
       "<Figure size 1440x720 with 2 Axes>"
      ]
     },
     "metadata": {
      "needs_background": "light"
     },
     "output_type": "display_data"
    }
   ],
   "source": [
    "f,axes=plt.subplots(1,2,figsize=(20,10))\n",
    "df['LoanOnCard'].value_counts().plot.pie(autopct='%1.1f%%',ax=axes[0],shadow=True)\n",
    "sns.countplot('LoanOnCard',data=df,ax=axes[1],order=[0,1])\n",
    "axes[0].set_title('LoanOnCard Variable Pie Chart')\n",
    "axes[1].set_title('LoanOnCard Variable Bar Graph')\n",
    "plt.show()"
   ]
  },
  {
   "cell_type": "markdown",
   "id": "b328455c-0ddf-4834-b055-8c3eba99e440",
   "metadata": {},
   "source": [
    "*From the above graph and plot we see that approx ~90% of people do not have loan on the Credit Card*"
   ]
  },
  {
   "cell_type": "markdown",
   "id": "798b2827-944d-441e-b80b-cd8d32d389c1",
   "metadata": {},
   "source": [
    "**B. Check the percentage of missing values and impute if required. [1 Marks]**"
   ]
  },
  {
   "cell_type": "code",
   "execution_count": 304,
   "id": "60e310db-129a-4e87-8b9f-238558cb2f88",
   "metadata": {},
   "outputs": [
    {
     "data": {
      "text/plain": [
       "ID                      0\n",
       "Age                     0\n",
       "CustomerSince           0\n",
       "HighestSpend            0\n",
       "ZipCode                 0\n",
       "HiddenScore             0\n",
       "MonthlyAverageSpend     0\n",
       "Level                   0\n",
       "Mortgage                0\n",
       "Security                0\n",
       "FixedDepositAccount     0\n",
       "InternetBanking         0\n",
       "CreditCard              0\n",
       "LoanOnCard             20\n",
       "dtype: int64"
      ]
     },
     "execution_count": 304,
     "metadata": {},
     "output_type": "execute_result"
    }
   ],
   "source": [
    "df.isnull().sum()"
   ]
  },
  {
   "cell_type": "code",
   "execution_count": 308,
   "id": "59efeeb2-a287-4917-8e29-5ef6c9907f6e",
   "metadata": {},
   "outputs": [
    {
     "name": "stdout",
     "output_type": "stream",
     "text": [
      "ID                     0.0\n",
      "Age                    0.0\n",
      "CustomerSince          0.0\n",
      "HighestSpend           0.0\n",
      "ZipCode                0.0\n",
      "HiddenScore            0.0\n",
      "MonthlyAverageSpend    0.0\n",
      "Level                  0.0\n",
      "Mortgage               0.0\n",
      "Security               0.0\n",
      "FixedDepositAccount    0.0\n",
      "InternetBanking        0.0\n",
      "CreditCard             0.0\n",
      "LoanOnCard             0.4\n",
      "dtype: float64\n"
     ]
    }
   ],
   "source": [
    "percent= df.isnull().sum()*100/len(df)\n",
    "print(round(percent,2))"
   ]
  },
  {
   "cell_type": "markdown",
   "id": "05edef3d-b92d-4a9c-a2d9-3ac941a115a3",
   "metadata": {},
   "source": [
    "*Since the missing valeus are very less when compared to the whole dataset, we can conviniently drop those missing values*"
   ]
  },
  {
   "cell_type": "code",
   "execution_count": 309,
   "id": "d0adcb41-3731-402d-bba5-dc5838e7ba1c",
   "metadata": {},
   "outputs": [],
   "source": [
    "df.dropna(axis=0,inplace=True)"
   ]
  },
  {
   "cell_type": "code",
   "execution_count": 310,
   "id": "4a01886c-ad36-4103-a3b0-177b43f095d0",
   "metadata": {},
   "outputs": [
    {
     "name": "stdout",
     "output_type": "stream",
     "text": [
      "<class 'pandas.core.frame.DataFrame'>\n",
      "Int64Index: 4980 entries, 9 to 4999\n",
      "Data columns (total 14 columns):\n",
      " #   Column               Non-Null Count  Dtype  \n",
      "---  ------               --------------  -----  \n",
      " 0   ID                   4980 non-null   int64  \n",
      " 1   Age                  4980 non-null   int64  \n",
      " 2   CustomerSince        4980 non-null   int64  \n",
      " 3   HighestSpend         4980 non-null   int64  \n",
      " 4   ZipCode              4980 non-null   int64  \n",
      " 5   HiddenScore          4980 non-null   object \n",
      " 6   MonthlyAverageSpend  4980 non-null   float64\n",
      " 7   Level                4980 non-null   object \n",
      " 8   Mortgage             4980 non-null   int64  \n",
      " 9   Security             4980 non-null   object \n",
      " 10  FixedDepositAccount  4980 non-null   object \n",
      " 11  InternetBanking      4980 non-null   object \n",
      " 12  CreditCard           4980 non-null   object \n",
      " 13  LoanOnCard           4980 non-null   float64\n",
      "dtypes: float64(2), int64(6), object(6)\n",
      "memory usage: 583.6+ KB\n"
     ]
    }
   ],
   "source": [
    "df.info()"
   ]
  },
  {
   "cell_type": "markdown",
   "id": "226cb5fc-7e1b-47c1-8c37-6da57a88818e",
   "metadata": {},
   "source": [
    "**C. Check for unexpected values in each categorical variable and impute with best suitable value. [2 Marks]**\n",
    "\n",
    "*[Unexpected values means if all values in a feature are 0/1 then ‘?’, ‘a’, 1.5 are unexpected values which needs treatment ]*"
   ]
  },
  {
   "cell_type": "code",
   "execution_count": 314,
   "id": "c174e21f-7fff-4f16-899a-c821edc3a807",
   "metadata": {},
   "outputs": [
    {
     "data": {
      "text/html": [
       "<div>\n",
       "<style scoped>\n",
       "    .dataframe tbody tr th:only-of-type {\n",
       "        vertical-align: middle;\n",
       "    }\n",
       "\n",
       "    .dataframe tbody tr th {\n",
       "        vertical-align: top;\n",
       "    }\n",
       "\n",
       "    .dataframe thead th {\n",
       "        text-align: right;\n",
       "    }\n",
       "</style>\n",
       "<table border=\"1\" class=\"dataframe\">\n",
       "  <thead>\n",
       "    <tr style=\"text-align: right;\">\n",
       "      <th></th>\n",
       "      <th>ID</th>\n",
       "      <th>Age</th>\n",
       "      <th>CustomerSince</th>\n",
       "      <th>HighestSpend</th>\n",
       "      <th>ZipCode</th>\n",
       "      <th>MonthlyAverageSpend</th>\n",
       "      <th>Mortgage</th>\n",
       "      <th>LoanOnCard</th>\n",
       "    </tr>\n",
       "  </thead>\n",
       "  <tbody>\n",
       "    <tr>\n",
       "      <th>count</th>\n",
       "      <td>4980.000000</td>\n",
       "      <td>4980.000000</td>\n",
       "      <td>4980.000000</td>\n",
       "      <td>4980.00000</td>\n",
       "      <td>4980.000000</td>\n",
       "      <td>4980.000000</td>\n",
       "      <td>4980.000000</td>\n",
       "      <td>4980.000000</td>\n",
       "    </tr>\n",
       "    <tr>\n",
       "      <th>mean</th>\n",
       "      <td>2510.345382</td>\n",
       "      <td>45.352610</td>\n",
       "      <td>20.117671</td>\n",
       "      <td>73.85241</td>\n",
       "      <td>93152.420482</td>\n",
       "      <td>1.939536</td>\n",
       "      <td>56.589759</td>\n",
       "      <td>0.096386</td>\n",
       "    </tr>\n",
       "    <tr>\n",
       "      <th>std</th>\n",
       "      <td>1438.011129</td>\n",
       "      <td>11.464212</td>\n",
       "      <td>11.468716</td>\n",
       "      <td>46.07009</td>\n",
       "      <td>2123.660073</td>\n",
       "      <td>1.750006</td>\n",
       "      <td>101.836758</td>\n",
       "      <td>0.295149</td>\n",
       "    </tr>\n",
       "    <tr>\n",
       "      <th>min</th>\n",
       "      <td>10.000000</td>\n",
       "      <td>23.000000</td>\n",
       "      <td>-3.000000</td>\n",
       "      <td>8.00000</td>\n",
       "      <td>9307.000000</td>\n",
       "      <td>0.000000</td>\n",
       "      <td>0.000000</td>\n",
       "      <td>0.000000</td>\n",
       "    </tr>\n",
       "    <tr>\n",
       "      <th>25%</th>\n",
       "      <td>1265.750000</td>\n",
       "      <td>35.000000</td>\n",
       "      <td>10.000000</td>\n",
       "      <td>39.00000</td>\n",
       "      <td>91911.000000</td>\n",
       "      <td>0.700000</td>\n",
       "      <td>0.000000</td>\n",
       "      <td>0.000000</td>\n",
       "    </tr>\n",
       "    <tr>\n",
       "      <th>50%</th>\n",
       "      <td>2510.500000</td>\n",
       "      <td>45.000000</td>\n",
       "      <td>20.000000</td>\n",
       "      <td>64.00000</td>\n",
       "      <td>93407.000000</td>\n",
       "      <td>1.500000</td>\n",
       "      <td>0.000000</td>\n",
       "      <td>0.000000</td>\n",
       "    </tr>\n",
       "    <tr>\n",
       "      <th>75%</th>\n",
       "      <td>3755.250000</td>\n",
       "      <td>55.000000</td>\n",
       "      <td>30.000000</td>\n",
       "      <td>98.00000</td>\n",
       "      <td>94608.000000</td>\n",
       "      <td>2.525000</td>\n",
       "      <td>101.000000</td>\n",
       "      <td>0.000000</td>\n",
       "    </tr>\n",
       "    <tr>\n",
       "      <th>max</th>\n",
       "      <td>5000.000000</td>\n",
       "      <td>67.000000</td>\n",
       "      <td>43.000000</td>\n",
       "      <td>224.00000</td>\n",
       "      <td>96651.000000</td>\n",
       "      <td>10.000000</td>\n",
       "      <td>635.000000</td>\n",
       "      <td>1.000000</td>\n",
       "    </tr>\n",
       "  </tbody>\n",
       "</table>\n",
       "</div>"
      ],
      "text/plain": [
       "                ID          Age  CustomerSince  HighestSpend       ZipCode  \\\n",
       "count  4980.000000  4980.000000    4980.000000    4980.00000   4980.000000   \n",
       "mean   2510.345382    45.352610      20.117671      73.85241  93152.420482   \n",
       "std    1438.011129    11.464212      11.468716      46.07009   2123.660073   \n",
       "min      10.000000    23.000000      -3.000000       8.00000   9307.000000   \n",
       "25%    1265.750000    35.000000      10.000000      39.00000  91911.000000   \n",
       "50%    2510.500000    45.000000      20.000000      64.00000  93407.000000   \n",
       "75%    3755.250000    55.000000      30.000000      98.00000  94608.000000   \n",
       "max    5000.000000    67.000000      43.000000     224.00000  96651.000000   \n",
       "\n",
       "       MonthlyAverageSpend     Mortgage   LoanOnCard  \n",
       "count          4980.000000  4980.000000  4980.000000  \n",
       "mean              1.939536    56.589759     0.096386  \n",
       "std               1.750006   101.836758     0.295149  \n",
       "min               0.000000     0.000000     0.000000  \n",
       "25%               0.700000     0.000000     0.000000  \n",
       "50%               1.500000     0.000000     0.000000  \n",
       "75%               2.525000   101.000000     0.000000  \n",
       "max              10.000000   635.000000     1.000000  "
      ]
     },
     "execution_count": 314,
     "metadata": {},
     "output_type": "execute_result"
    }
   ],
   "source": [
    "df.describe()"
   ]
  },
  {
   "cell_type": "markdown",
   "id": "34f44d54-f620-4731-a4fd-3c89c3424487",
   "metadata": {},
   "source": [
    "*Droping ID column before we start with further analysis.*"
   ]
  },
  {
   "cell_type": "code",
   "execution_count": 315,
   "id": "a6471c77-ebc8-4a37-92d2-90ca5188170c",
   "metadata": {},
   "outputs": [],
   "source": [
    "df.drop('ID',axis=1,inplace=True)"
   ]
  },
  {
   "cell_type": "code",
   "execution_count": 316,
   "id": "de4d9a49-13e1-4a40-9c62-26cabf6f262c",
   "metadata": {},
   "outputs": [
    {
     "data": {
      "text/html": [
       "<div>\n",
       "<style scoped>\n",
       "    .dataframe tbody tr th:only-of-type {\n",
       "        vertical-align: middle;\n",
       "    }\n",
       "\n",
       "    .dataframe tbody tr th {\n",
       "        vertical-align: top;\n",
       "    }\n",
       "\n",
       "    .dataframe thead th {\n",
       "        text-align: right;\n",
       "    }\n",
       "</style>\n",
       "<table border=\"1\" class=\"dataframe\">\n",
       "  <thead>\n",
       "    <tr style=\"text-align: right;\">\n",
       "      <th></th>\n",
       "      <th>Age</th>\n",
       "      <th>CustomerSince</th>\n",
       "      <th>HighestSpend</th>\n",
       "      <th>ZipCode</th>\n",
       "      <th>MonthlyAverageSpend</th>\n",
       "      <th>Mortgage</th>\n",
       "      <th>LoanOnCard</th>\n",
       "    </tr>\n",
       "  </thead>\n",
       "  <tbody>\n",
       "    <tr>\n",
       "      <th>count</th>\n",
       "      <td>4980.000000</td>\n",
       "      <td>4980.000000</td>\n",
       "      <td>4980.00000</td>\n",
       "      <td>4980.000000</td>\n",
       "      <td>4980.000000</td>\n",
       "      <td>4980.000000</td>\n",
       "      <td>4980.000000</td>\n",
       "    </tr>\n",
       "    <tr>\n",
       "      <th>mean</th>\n",
       "      <td>45.352610</td>\n",
       "      <td>20.117671</td>\n",
       "      <td>73.85241</td>\n",
       "      <td>93152.420482</td>\n",
       "      <td>1.939536</td>\n",
       "      <td>56.589759</td>\n",
       "      <td>0.096386</td>\n",
       "    </tr>\n",
       "    <tr>\n",
       "      <th>std</th>\n",
       "      <td>11.464212</td>\n",
       "      <td>11.468716</td>\n",
       "      <td>46.07009</td>\n",
       "      <td>2123.660073</td>\n",
       "      <td>1.750006</td>\n",
       "      <td>101.836758</td>\n",
       "      <td>0.295149</td>\n",
       "    </tr>\n",
       "    <tr>\n",
       "      <th>min</th>\n",
       "      <td>23.000000</td>\n",
       "      <td>-3.000000</td>\n",
       "      <td>8.00000</td>\n",
       "      <td>9307.000000</td>\n",
       "      <td>0.000000</td>\n",
       "      <td>0.000000</td>\n",
       "      <td>0.000000</td>\n",
       "    </tr>\n",
       "    <tr>\n",
       "      <th>25%</th>\n",
       "      <td>35.000000</td>\n",
       "      <td>10.000000</td>\n",
       "      <td>39.00000</td>\n",
       "      <td>91911.000000</td>\n",
       "      <td>0.700000</td>\n",
       "      <td>0.000000</td>\n",
       "      <td>0.000000</td>\n",
       "    </tr>\n",
       "    <tr>\n",
       "      <th>50%</th>\n",
       "      <td>45.000000</td>\n",
       "      <td>20.000000</td>\n",
       "      <td>64.00000</td>\n",
       "      <td>93407.000000</td>\n",
       "      <td>1.500000</td>\n",
       "      <td>0.000000</td>\n",
       "      <td>0.000000</td>\n",
       "    </tr>\n",
       "    <tr>\n",
       "      <th>75%</th>\n",
       "      <td>55.000000</td>\n",
       "      <td>30.000000</td>\n",
       "      <td>98.00000</td>\n",
       "      <td>94608.000000</td>\n",
       "      <td>2.525000</td>\n",
       "      <td>101.000000</td>\n",
       "      <td>0.000000</td>\n",
       "    </tr>\n",
       "    <tr>\n",
       "      <th>max</th>\n",
       "      <td>67.000000</td>\n",
       "      <td>43.000000</td>\n",
       "      <td>224.00000</td>\n",
       "      <td>96651.000000</td>\n",
       "      <td>10.000000</td>\n",
       "      <td>635.000000</td>\n",
       "      <td>1.000000</td>\n",
       "    </tr>\n",
       "  </tbody>\n",
       "</table>\n",
       "</div>"
      ],
      "text/plain": [
       "               Age  CustomerSince  HighestSpend       ZipCode  \\\n",
       "count  4980.000000    4980.000000    4980.00000   4980.000000   \n",
       "mean     45.352610      20.117671      73.85241  93152.420482   \n",
       "std      11.464212      11.468716      46.07009   2123.660073   \n",
       "min      23.000000      -3.000000       8.00000   9307.000000   \n",
       "25%      35.000000      10.000000      39.00000  91911.000000   \n",
       "50%      45.000000      20.000000      64.00000  93407.000000   \n",
       "75%      55.000000      30.000000      98.00000  94608.000000   \n",
       "max      67.000000      43.000000     224.00000  96651.000000   \n",
       "\n",
       "       MonthlyAverageSpend     Mortgage   LoanOnCard  \n",
       "count          4980.000000  4980.000000  4980.000000  \n",
       "mean              1.939536    56.589759     0.096386  \n",
       "std               1.750006   101.836758     0.295149  \n",
       "min               0.000000     0.000000     0.000000  \n",
       "25%               0.700000     0.000000     0.000000  \n",
       "50%               1.500000     0.000000     0.000000  \n",
       "75%               2.525000   101.000000     0.000000  \n",
       "max              10.000000   635.000000     1.000000  "
      ]
     },
     "execution_count": 316,
     "metadata": {},
     "output_type": "execute_result"
    }
   ],
   "source": [
    "df.describe()"
   ]
  },
  {
   "cell_type": "markdown",
   "id": "7e942f39-d7a5-4b76-b175-16b37d4f87d0",
   "metadata": {},
   "source": [
    "**3. Data Preparation and model building: [10 Marks]**\n",
    "\n",
    "**A. Split data into X and Y. [1 Marks]**\n",
    "\n",
    "*[Recommended to drop ID & ZipCode. LoanOnCard is target Variable]*"
   ]
  },
  {
   "cell_type": "code",
   "execution_count": 318,
   "id": "c8419b35-c8cb-408b-820c-3bbaf759308d",
   "metadata": {},
   "outputs": [],
   "source": [
    "df.drop(['ZipCode'],axis=1,inplace=True)"
   ]
  },
  {
   "cell_type": "code",
   "execution_count": 319,
   "id": "62e592c5-438d-4ab9-b175-37cfb6d32cce",
   "metadata": {},
   "outputs": [
    {
     "data": {
      "text/html": [
       "<div>\n",
       "<style scoped>\n",
       "    .dataframe tbody tr th:only-of-type {\n",
       "        vertical-align: middle;\n",
       "    }\n",
       "\n",
       "    .dataframe tbody tr th {\n",
       "        vertical-align: top;\n",
       "    }\n",
       "\n",
       "    .dataframe thead th {\n",
       "        text-align: right;\n",
       "    }\n",
       "</style>\n",
       "<table border=\"1\" class=\"dataframe\">\n",
       "  <thead>\n",
       "    <tr style=\"text-align: right;\">\n",
       "      <th></th>\n",
       "      <th>Age</th>\n",
       "      <th>CustomerSince</th>\n",
       "      <th>HighestSpend</th>\n",
       "      <th>MonthlyAverageSpend</th>\n",
       "      <th>Mortgage</th>\n",
       "      <th>LoanOnCard</th>\n",
       "    </tr>\n",
       "  </thead>\n",
       "  <tbody>\n",
       "    <tr>\n",
       "      <th>count</th>\n",
       "      <td>4980.000000</td>\n",
       "      <td>4980.000000</td>\n",
       "      <td>4980.00000</td>\n",
       "      <td>4980.000000</td>\n",
       "      <td>4980.000000</td>\n",
       "      <td>4980.000000</td>\n",
       "    </tr>\n",
       "    <tr>\n",
       "      <th>mean</th>\n",
       "      <td>45.352610</td>\n",
       "      <td>20.117671</td>\n",
       "      <td>73.85241</td>\n",
       "      <td>1.939536</td>\n",
       "      <td>56.589759</td>\n",
       "      <td>0.096386</td>\n",
       "    </tr>\n",
       "    <tr>\n",
       "      <th>std</th>\n",
       "      <td>11.464212</td>\n",
       "      <td>11.468716</td>\n",
       "      <td>46.07009</td>\n",
       "      <td>1.750006</td>\n",
       "      <td>101.836758</td>\n",
       "      <td>0.295149</td>\n",
       "    </tr>\n",
       "    <tr>\n",
       "      <th>min</th>\n",
       "      <td>23.000000</td>\n",
       "      <td>-3.000000</td>\n",
       "      <td>8.00000</td>\n",
       "      <td>0.000000</td>\n",
       "      <td>0.000000</td>\n",
       "      <td>0.000000</td>\n",
       "    </tr>\n",
       "    <tr>\n",
       "      <th>25%</th>\n",
       "      <td>35.000000</td>\n",
       "      <td>10.000000</td>\n",
       "      <td>39.00000</td>\n",
       "      <td>0.700000</td>\n",
       "      <td>0.000000</td>\n",
       "      <td>0.000000</td>\n",
       "    </tr>\n",
       "    <tr>\n",
       "      <th>50%</th>\n",
       "      <td>45.000000</td>\n",
       "      <td>20.000000</td>\n",
       "      <td>64.00000</td>\n",
       "      <td>1.500000</td>\n",
       "      <td>0.000000</td>\n",
       "      <td>0.000000</td>\n",
       "    </tr>\n",
       "    <tr>\n",
       "      <th>75%</th>\n",
       "      <td>55.000000</td>\n",
       "      <td>30.000000</td>\n",
       "      <td>98.00000</td>\n",
       "      <td>2.525000</td>\n",
       "      <td>101.000000</td>\n",
       "      <td>0.000000</td>\n",
       "    </tr>\n",
       "    <tr>\n",
       "      <th>max</th>\n",
       "      <td>67.000000</td>\n",
       "      <td>43.000000</td>\n",
       "      <td>224.00000</td>\n",
       "      <td>10.000000</td>\n",
       "      <td>635.000000</td>\n",
       "      <td>1.000000</td>\n",
       "    </tr>\n",
       "  </tbody>\n",
       "</table>\n",
       "</div>"
      ],
      "text/plain": [
       "               Age  CustomerSince  HighestSpend  MonthlyAverageSpend  \\\n",
       "count  4980.000000    4980.000000    4980.00000          4980.000000   \n",
       "mean     45.352610      20.117671      73.85241             1.939536   \n",
       "std      11.464212      11.468716      46.07009             1.750006   \n",
       "min      23.000000      -3.000000       8.00000             0.000000   \n",
       "25%      35.000000      10.000000      39.00000             0.700000   \n",
       "50%      45.000000      20.000000      64.00000             1.500000   \n",
       "75%      55.000000      30.000000      98.00000             2.525000   \n",
       "max      67.000000      43.000000     224.00000            10.000000   \n",
       "\n",
       "          Mortgage   LoanOnCard  \n",
       "count  4980.000000  4980.000000  \n",
       "mean     56.589759     0.096386  \n",
       "std     101.836758     0.295149  \n",
       "min       0.000000     0.000000  \n",
       "25%       0.000000     0.000000  \n",
       "50%       0.000000     0.000000  \n",
       "75%     101.000000     0.000000  \n",
       "max     635.000000     1.000000  "
      ]
     },
     "execution_count": 319,
     "metadata": {},
     "output_type": "execute_result"
    }
   ],
   "source": [
    "df.describe()"
   ]
  },
  {
   "cell_type": "markdown",
   "id": "31401bcb-9dbf-4387-8f70-b368fa71896f",
   "metadata": {},
   "source": [
    "*plitting the Data*"
   ]
  },
  {
   "cell_type": "code",
   "execution_count": 324,
   "id": "a9bdc102-191b-4677-b4d0-082192efa1d0",
   "metadata": {},
   "outputs": [],
   "source": [
    "X=df.drop(columns='LoanOnCard')\n",
    "y=df['LoanOnCard']"
   ]
  },
  {
   "cell_type": "code",
   "execution_count": 321,
   "id": "8b315ad0-51af-4b3f-8ee0-0db20513fc36",
   "metadata": {},
   "outputs": [
    {
     "data": {
      "text/html": [
       "<div>\n",
       "<style scoped>\n",
       "    .dataframe tbody tr th:only-of-type {\n",
       "        vertical-align: middle;\n",
       "    }\n",
       "\n",
       "    .dataframe tbody tr th {\n",
       "        vertical-align: top;\n",
       "    }\n",
       "\n",
       "    .dataframe thead th {\n",
       "        text-align: right;\n",
       "    }\n",
       "</style>\n",
       "<table border=\"1\" class=\"dataframe\">\n",
       "  <thead>\n",
       "    <tr style=\"text-align: right;\">\n",
       "      <th></th>\n",
       "      <th>Age</th>\n",
       "      <th>CustomerSince</th>\n",
       "      <th>HighestSpend</th>\n",
       "      <th>MonthlyAverageSpend</th>\n",
       "      <th>Mortgage</th>\n",
       "    </tr>\n",
       "  </thead>\n",
       "  <tbody>\n",
       "    <tr>\n",
       "      <th>count</th>\n",
       "      <td>4980.000000</td>\n",
       "      <td>4980.000000</td>\n",
       "      <td>4980.00000</td>\n",
       "      <td>4980.000000</td>\n",
       "      <td>4980.000000</td>\n",
       "    </tr>\n",
       "    <tr>\n",
       "      <th>mean</th>\n",
       "      <td>45.352610</td>\n",
       "      <td>20.117671</td>\n",
       "      <td>73.85241</td>\n",
       "      <td>1.939536</td>\n",
       "      <td>56.589759</td>\n",
       "    </tr>\n",
       "    <tr>\n",
       "      <th>std</th>\n",
       "      <td>11.464212</td>\n",
       "      <td>11.468716</td>\n",
       "      <td>46.07009</td>\n",
       "      <td>1.750006</td>\n",
       "      <td>101.836758</td>\n",
       "    </tr>\n",
       "    <tr>\n",
       "      <th>min</th>\n",
       "      <td>23.000000</td>\n",
       "      <td>-3.000000</td>\n",
       "      <td>8.00000</td>\n",
       "      <td>0.000000</td>\n",
       "      <td>0.000000</td>\n",
       "    </tr>\n",
       "    <tr>\n",
       "      <th>25%</th>\n",
       "      <td>35.000000</td>\n",
       "      <td>10.000000</td>\n",
       "      <td>39.00000</td>\n",
       "      <td>0.700000</td>\n",
       "      <td>0.000000</td>\n",
       "    </tr>\n",
       "    <tr>\n",
       "      <th>50%</th>\n",
       "      <td>45.000000</td>\n",
       "      <td>20.000000</td>\n",
       "      <td>64.00000</td>\n",
       "      <td>1.500000</td>\n",
       "      <td>0.000000</td>\n",
       "    </tr>\n",
       "    <tr>\n",
       "      <th>75%</th>\n",
       "      <td>55.000000</td>\n",
       "      <td>30.000000</td>\n",
       "      <td>98.00000</td>\n",
       "      <td>2.525000</td>\n",
       "      <td>101.000000</td>\n",
       "    </tr>\n",
       "    <tr>\n",
       "      <th>max</th>\n",
       "      <td>67.000000</td>\n",
       "      <td>43.000000</td>\n",
       "      <td>224.00000</td>\n",
       "      <td>10.000000</td>\n",
       "      <td>635.000000</td>\n",
       "    </tr>\n",
       "  </tbody>\n",
       "</table>\n",
       "</div>"
      ],
      "text/plain": [
       "               Age  CustomerSince  HighestSpend  MonthlyAverageSpend  \\\n",
       "count  4980.000000    4980.000000    4980.00000          4980.000000   \n",
       "mean     45.352610      20.117671      73.85241             1.939536   \n",
       "std      11.464212      11.468716      46.07009             1.750006   \n",
       "min      23.000000      -3.000000       8.00000             0.000000   \n",
       "25%      35.000000      10.000000      39.00000             0.700000   \n",
       "50%      45.000000      20.000000      64.00000             1.500000   \n",
       "75%      55.000000      30.000000      98.00000             2.525000   \n",
       "max      67.000000      43.000000     224.00000            10.000000   \n",
       "\n",
       "          Mortgage  \n",
       "count  4980.000000  \n",
       "mean     56.589759  \n",
       "std     101.836758  \n",
       "min       0.000000  \n",
       "25%       0.000000  \n",
       "50%       0.000000  \n",
       "75%     101.000000  \n",
       "max     635.000000  "
      ]
     },
     "execution_count": 321,
     "metadata": {},
     "output_type": "execute_result"
    }
   ],
   "source": [
    "X.describe()"
   ]
  },
  {
   "cell_type": "code",
   "execution_count": 323,
   "id": "a19ac641-e5a3-4c2e-ae4a-0a5e076a24c8",
   "metadata": {},
   "outputs": [
    {
     "data": {
      "text/html": [
       "<div>\n",
       "<style scoped>\n",
       "    .dataframe tbody tr th:only-of-type {\n",
       "        vertical-align: middle;\n",
       "    }\n",
       "\n",
       "    .dataframe tbody tr th {\n",
       "        vertical-align: top;\n",
       "    }\n",
       "\n",
       "    .dataframe thead th {\n",
       "        text-align: right;\n",
       "    }\n",
       "</style>\n",
       "<table border=\"1\" class=\"dataframe\">\n",
       "  <thead>\n",
       "    <tr style=\"text-align: right;\">\n",
       "      <th></th>\n",
       "      <th>count</th>\n",
       "      <th>mean</th>\n",
       "      <th>std</th>\n",
       "      <th>min</th>\n",
       "      <th>25%</th>\n",
       "      <th>50%</th>\n",
       "      <th>75%</th>\n",
       "      <th>max</th>\n",
       "    </tr>\n",
       "  </thead>\n",
       "  <tbody>\n",
       "    <tr>\n",
       "      <th>Age</th>\n",
       "      <td>4980.0</td>\n",
       "      <td>45.352610</td>\n",
       "      <td>11.464212</td>\n",
       "      <td>23.0</td>\n",
       "      <td>35.0</td>\n",
       "      <td>45.0</td>\n",
       "      <td>55.000</td>\n",
       "      <td>67.0</td>\n",
       "    </tr>\n",
       "    <tr>\n",
       "      <th>CustomerSince</th>\n",
       "      <td>4980.0</td>\n",
       "      <td>20.117671</td>\n",
       "      <td>11.468716</td>\n",
       "      <td>-3.0</td>\n",
       "      <td>10.0</td>\n",
       "      <td>20.0</td>\n",
       "      <td>30.000</td>\n",
       "      <td>43.0</td>\n",
       "    </tr>\n",
       "    <tr>\n",
       "      <th>HighestSpend</th>\n",
       "      <td>4980.0</td>\n",
       "      <td>73.852410</td>\n",
       "      <td>46.070090</td>\n",
       "      <td>8.0</td>\n",
       "      <td>39.0</td>\n",
       "      <td>64.0</td>\n",
       "      <td>98.000</td>\n",
       "      <td>224.0</td>\n",
       "    </tr>\n",
       "    <tr>\n",
       "      <th>MonthlyAverageSpend</th>\n",
       "      <td>4980.0</td>\n",
       "      <td>1.939536</td>\n",
       "      <td>1.750006</td>\n",
       "      <td>0.0</td>\n",
       "      <td>0.7</td>\n",
       "      <td>1.5</td>\n",
       "      <td>2.525</td>\n",
       "      <td>10.0</td>\n",
       "    </tr>\n",
       "    <tr>\n",
       "      <th>Mortgage</th>\n",
       "      <td>4980.0</td>\n",
       "      <td>56.589759</td>\n",
       "      <td>101.836758</td>\n",
       "      <td>0.0</td>\n",
       "      <td>0.0</td>\n",
       "      <td>0.0</td>\n",
       "      <td>101.000</td>\n",
       "      <td>635.0</td>\n",
       "    </tr>\n",
       "  </tbody>\n",
       "</table>\n",
       "</div>"
      ],
      "text/plain": [
       "                      count       mean         std   min   25%   50%      75%  \\\n",
       "Age                  4980.0  45.352610   11.464212  23.0  35.0  45.0   55.000   \n",
       "CustomerSince        4980.0  20.117671   11.468716  -3.0  10.0  20.0   30.000   \n",
       "HighestSpend         4980.0  73.852410   46.070090   8.0  39.0  64.0   98.000   \n",
       "MonthlyAverageSpend  4980.0   1.939536    1.750006   0.0   0.7   1.5    2.525   \n",
       "Mortgage             4980.0  56.589759  101.836758   0.0   0.0   0.0  101.000   \n",
       "\n",
       "                       max  \n",
       "Age                   67.0  \n",
       "CustomerSince         43.0  \n",
       "HighestSpend         224.0  \n",
       "MonthlyAverageSpend   10.0  \n",
       "Mortgage             635.0  "
      ]
     },
     "execution_count": 323,
     "metadata": {},
     "output_type": "execute_result"
    }
   ],
   "source": [
    "X.describe().T"
   ]
  },
  {
   "cell_type": "markdown",
   "id": "d0bea0bb-5ae8-4cf1-8b5f-485caa78624d",
   "metadata": {},
   "source": [
    "**B. Split data into train and test. Keep 25% data reserved for testing. [1 Marks]**"
   ]
  },
  {
   "cell_type": "code",
   "execution_count": 325,
   "id": "af9e9610-0f2b-4611-806f-5744832bb1f5",
   "metadata": {},
   "outputs": [],
   "source": [
    "# Split X and Y into training and test set in 75:25 ratio\n",
    "X_train, X_test, y_train, y_test = train_test_split(X, y, test_size=0.25, random_state=1)"
   ]
  },
  {
   "cell_type": "markdown",
   "id": "dc9b70f0-257e-427d-9afc-8c5fd4f5db58",
   "metadata": {},
   "source": [
    "**C. Train a Supervised Learning Classification base model - Logistic Regression. [2 Marks]**"
   ]
  },
  {
   "cell_type": "code",
   "execution_count": null,
   "id": "73edbd4d-9381-49cf-93de-80b66d179fcd",
   "metadata": {},
   "outputs": [],
   "source": []
  },
  {
   "cell_type": "markdown",
   "id": "de7348d7-7c02-45de-8ae5-26623ba00a7d",
   "metadata": {},
   "source": [
    "**D. Print evaluation metrics for the model and clearly share insights. [1 Marks]**"
   ]
  },
  {
   "cell_type": "code",
   "execution_count": 326,
   "id": "992f73af-ce5e-4822-8949-bd5dd0e16d60",
   "metadata": {},
   "outputs": [
    {
     "name": "stdout",
     "output_type": "stream",
     "text": [
      "Accuracy on Training data: 0.9493975903614458\n",
      "Accuracy on Test data: 0.9437751004016064\n"
     ]
    }
   ],
   "source": [
    "logit = LogisticRegression()\n",
    "logit.fit(X_train, y_train)\n",
    "logit_pred = logit.predict(X_test)\n",
    "\n",
    "print('Accuracy on Training data:',logit.score(X_train, y_train))\n",
    "print('Accuracy on Test data:',logit.score(X_test, y_test))"
   ]
  },
  {
   "cell_type": "markdown",
   "id": "7a66b8b8-f7d2-4497-8520-2ef96968bdec",
   "metadata": {},
   "source": [
    "*We got 94% accuracy on training set and 93% accuracy on test set.*\n",
    "\n",
    "*Training set accuracy and testing accuracy are balanced when model is built without sampling also accuracy is good.*"
   ]
  },
  {
   "cell_type": "markdown",
   "id": "6145dcf8-e053-45b1-93a9-87c6dba814f2",
   "metadata": {},
   "source": [
    "**E. Balance the data using the right balancing technique. [2 Marks]**\n",
    "\n",
    "*i. Check distribution of the target variable*"
   ]
  },
  {
   "cell_type": "code",
   "execution_count": null,
   "id": "3f730271-a3c9-40c7-950d-c55b1d98e93e",
   "metadata": {},
   "outputs": [],
   "source": []
  },
  {
   "cell_type": "markdown",
   "id": "9c10c62b-062f-494e-88c1-44865b37a4e7",
   "metadata": {},
   "source": [
    "*ii. Say output is class A : 20% and class B : 80%*"
   ]
  },
  {
   "cell_type": "code",
   "execution_count": null,
   "id": "2bca53c3-bfe0-40fb-b17f-84f04e55c30a",
   "metadata": {},
   "outputs": [],
   "source": []
  },
  {
   "cell_type": "markdown",
   "id": "41972fad-6d06-4a32-94c0-22e8b3f38bb9",
   "metadata": {},
   "source": [
    "*iii. Here you need to balance the target variable as 50:50.*"
   ]
  },
  {
   "cell_type": "code",
   "execution_count": null,
   "id": "5f692a50-2a30-40bf-99cb-28952ce287cd",
   "metadata": {},
   "outputs": [],
   "source": []
  },
  {
   "cell_type": "markdown",
   "id": "9f60f9f2-b136-417c-98e5-9f036f760bd8",
   "metadata": {},
   "source": [
    "*iv. Try appropriate method to achieve the same.*"
   ]
  },
  {
   "cell_type": "code",
   "execution_count": null,
   "id": "2d97c02b-4fb8-4d77-8b51-93d0b73a4b07",
   "metadata": {},
   "outputs": [],
   "source": []
  },
  {
   "cell_type": "markdown",
   "id": "c9386c31-cc37-49b5-9ee6-f04c24ee9774",
   "metadata": {},
   "source": [
    "**F. Again train the same previous model on balanced data. [1 Marks]**"
   ]
  },
  {
   "cell_type": "code",
   "execution_count": null,
   "id": "a261edef-5a18-4cf4-ac44-d3bc6204ab32",
   "metadata": {},
   "outputs": [],
   "source": []
  },
  {
   "cell_type": "markdown",
   "id": "aaec18ac-9d37-4d3b-acbc-cf8f9399794d",
   "metadata": {},
   "source": [
    "**G. Print evaluation metrics and clearly share differences observed. [2 Marks]**"
   ]
  },
  {
   "cell_type": "code",
   "execution_count": 332,
   "id": "2521c524-ec62-43f1-a86b-3aa1e1a042d7",
   "metadata": {},
   "outputs": [
    {
     "data": {
      "image/png": "[encoded data removed]",
      "text/plain": [
       "<Figure size 504x360 with 2 Axes>"
      ]
     },
     "metadata": {
      "needs_background": "light"
     },
     "output_type": "display_data"
    }
   ],
   "source": [
    "cm = confusion_matrix(y_test, logit_pred, labels=[0, 1])\n",
    "\n",
    "df_cm = pd.DataFrame(cm, index = [i for i in [\"Non-Loan holders\",\"Loan holders\"]],\n",
    "                  columns = [i for i in [\"Non-Loan holders\",\"Loan holders\"]])\n",
    "plt.figure(figsize = (7,5))\n",
    "sns.heatmap(df_cm, annot=True ,fmt='g')\n",
    "plt.show()"
   ]
  },
  {
   "cell_type": "code",
   "execution_count": 333,
   "id": "84b36aa8-2607-4a7e-92bc-54574ccf88b4",
   "metadata": {},
   "outputs": [
    {
     "name": "stdout",
     "output_type": "stream",
     "text": [
      "classification  Matrix:\n",
      "               precision    recall  f1-score   support\n",
      "\n",
      "         0.0       0.95      0.99      0.97      1118\n",
      "         1.0       0.82      0.57      0.68       127\n",
      "\n",
      "    accuracy                           0.94      1245\n",
      "   macro avg       0.89      0.78      0.82      1245\n",
      "weighted avg       0.94      0.94      0.94      1245\n",
      "\n"
     ]
    }
   ],
   "source": [
    "print(\"classification  Matrix:\\n\",classification_report(y_test,logit_pred))"
   ]
  },
  {
   "cell_type": "markdown",
   "id": "a65360ef-9b16-4479-8db5-227f77ab2f50",
   "metadata": {},
   "source": [
    "**4. Performance Improvement: [10 Marks]**\n",
    "\n",
    "**A. Train a base model each for SVM, KNN. [4 Marks]**"
   ]
  },
  {
   "cell_type": "code",
   "execution_count": 328,
   "id": "cb8b7446-164e-4184-a50e-58d2ae7e9027",
   "metadata": {},
   "outputs": [],
   "source": [
    "LR_model=LogisticRegression()\n",
    "KNN_model=KNeighborsClassifier(n_neighbors=10)\n",
    "SVM_model=SVC()"
   ]
  },
  {
   "cell_type": "code",
   "execution_count": 329,
   "id": "3484d7e7-9fc9-42d7-bdd3-ae903655aebb",
   "metadata": {},
   "outputs": [
    {
     "name": "stdout",
     "output_type": "stream",
     "text": [
      "LR: 0.948193 (0.007921)\n",
      "KNN: 0.911847 (0.011051)\n",
      "SVC: 0.907831 (0.011929)\n"
     ]
    },
    {
     "data": {
      "image/png": "[encoded data removed]",
      "text/plain": [
       "<Figure size 432x288 with 1 Axes>"
      ]
     },
     "metadata": {
      "needs_background": "light"
     },
     "output_type": "display_data"
    }
   ],
   "source": [
    "models = []\n",
    "models.append(('LR', LR_model))\n",
    "models.append(('KNN', KNN_model))\n",
    "models.append(('SVC', SVM_model))\n",
    "\n",
    "# evaluate each model in turn\n",
    "results = []\n",
    "names = []\n",
    "scoring = 'accuracy'\n",
    "for name, model in models:\n",
    "    kfold = model_selection.KFold(n_splits=10)\n",
    "    cv_results = model_selection.cross_val_score(model,  X,y, cv=kfold, scoring=scoring)\n",
    "    results.append(cv_results)\n",
    "    names.append(name)\n",
    "    msg = \"%s: %f (%f)\" % (name, cv_results.mean(), cv_results.std())\n",
    "    print(msg)\n",
    "# boxplot algorithm comparison\n",
    "fig = plt.figure()\n",
    "fig.suptitle('Algorithm Comparison')\n",
    "ax = fig.add_subplot(111)\n",
    "plt.boxplot(results)\n",
    "ax.set_xticklabels(names)\n",
    "plt.show()"
   ]
  },
  {
   "cell_type": "markdown",
   "id": "c74fca7a-7b14-4f03-b82f-c275c71116ae",
   "metadata": {},
   "source": [
    "*We see that the accuracy for all the models are good enough with LR model having highest of all the three.*"
   ]
  },
  {
   "cell_type": "markdown",
   "id": "aa00cfe3-1a7c-41a8-88d0-cb2735bb2c5d",
   "metadata": {},
   "source": [
    "**B. Tune parameters for each of the models wherever required and finalize a model. [3 Marks]**\n",
    "\n",
    "*(Optional: Experiment with various Hyperparameters - Research required)*"
   ]
  },
  {
   "cell_type": "markdown",
   "id": "21aa052f-c98f-4ef5-912e-510d1ce506fe",
   "metadata": {},
   "source": [
    "*Lets us try with startified k-fold to check if performance increrases or not*"
   ]
  },
  {
   "cell_type": "code",
   "execution_count": 330,
   "id": "e16e335c-2988-49d8-a6b6-6b809c4d91ce",
   "metadata": {},
   "outputs": [],
   "source": [
    "LR_model=LogisticRegression()\n",
    "KNN_model=KNeighborsClassifier(n_neighbors=10)\n",
    "SVM_model=SVC()"
   ]
  },
  {
   "cell_type": "code",
   "execution_count": 331,
   "id": "1e22a9e9-e82a-44fc-80af-72ccd459283d",
   "metadata": {},
   "outputs": [
    {
     "name": "stdout",
     "output_type": "stream",
     "text": [
      "LR: 0.949398 (0.008122)\n",
      "KNN: 0.911847 (0.008588)\n",
      "SVC: 0.908835 (0.003935)\n"
     ]
    },
    {
     "data": {
      "image/png": "[encoded data removed]",
      "text/plain": [
       "<Figure size 432x288 with 1 Axes>"
      ]
     },
     "metadata": {
      "needs_background": "light"
     },
     "output_type": "display_data"
    }
   ],
   "source": [
    "# evaluate each model in turn\n",
    "results = []\n",
    "names = []\n",
    "scoring = 'accuracy'\n",
    "for name, model in models:\n",
    "    kfold = model_selection.StratifiedKFold(n_splits=10)\n",
    "    cv_results = model_selection.cross_val_score(model,  X,y, cv=kfold, scoring=scoring)\n",
    "    results.append(cv_results)\n",
    "    names.append(name)\n",
    "    msg = \"%s: %f (%f)\" % (name, cv_results.mean(), cv_results.std())\n",
    "    print(msg)\n",
    "# boxplot algorithm comparison\n",
    "fig = plt.figure()\n",
    "fig.suptitle('Algorithm Comparison')\n",
    "ax = fig.add_subplot(111)\n",
    "plt.boxplot(results)\n",
    "ax.set_xticklabels(names)\n",
    "plt.show()"
   ]
  },
  {
   "cell_type": "markdown",
   "id": "cd001080-b326-47b2-9fcd-85ea8a2d2fb8",
   "metadata": {},
   "source": [
    "*We can see slight improvment in the accuracy of the model*"
   ]
  },
  {
   "cell_type": "markdown",
   "id": "2f72219b-6670-4f2a-8b7e-a581dddbc01b",
   "metadata": {},
   "source": [
    "**C. Print evaluation metrics for final model. [1 Marks]**"
   ]
  },
  {
   "cell_type": "code",
   "execution_count": 334,
   "id": "42afd547-7035-4b3a-98ff-55d5ef2025a3",
   "metadata": {},
   "outputs": [
    {
     "data": {
      "image/png": "[encoded data removed]",
      "text/plain": [
       "<Figure size 504x360 with 2 Axes>"
      ]
     },
     "metadata": {
      "needs_background": "light"
     },
     "output_type": "display_data"
    }
   ],
   "source": [
    "cm = confusion_matrix(y_test, logit_pred, labels=[0, 1])\n",
    "\n",
    "df_cm = pd.DataFrame(cm, index = [i for i in [\"Non-Loan holders\",\"Loan holders\"]],\n",
    "                  columns = [i for i in [\"Non-Loan holders\",\"Loan holders\"]])\n",
    "plt.figure(figsize = (7,5))\n",
    "sns.heatmap(df_cm, annot=True ,fmt='g')\n",
    "plt.show()"
   ]
  },
  {
   "cell_type": "markdown",
   "id": "f8de0c55-3f93-4600-b074-d6f222a7347f",
   "metadata": {},
   "source": [
    "**D. Share improvement achieved from base model to final model. [2 Marks]**"
   ]
  },
  {
   "cell_type": "markdown",
   "id": "44e3dde1-23e6-448b-8ceb-d45fa750011a",
   "metadata": {},
   "source": [
    "*We are selecting final model as logistic regression as it performs well in training and testing test.*\n",
    "\n",
    "*Logistic Regression is not affected by overfitting and it is also has good recall value.*\n",
    "\n",
    "*Logistic regression performed well in k-fold cross validation as well.*\n",
    "\n",
    "*Deviation was also minimum for logistic regression.*\n",
    "\n",
    "\n",
    "*Few customers do not have credit card but those customer having loan on card. This data error can be avoided.*"
   ]
  }
 ],
 "metadata": {
  "kernelspec": {
   "display_name": "Python 3 (ipykernel)",
   "language": "python",
   "name": "python3"
  },
  "language_info": {
   "codemirror_mode": {
    "name": "ipython",
    "version": 3
   },
   "file_extension": ".py",
   "mimetype": "text/x-python",
   "name": "python",
   "nbconvert_exporter": "python",
   "pygments_lexer": "ipython3",
   "version": "3.9.12"
  }
 },
 "nbformat": 4,
 "nbformat_minor": 5
}
